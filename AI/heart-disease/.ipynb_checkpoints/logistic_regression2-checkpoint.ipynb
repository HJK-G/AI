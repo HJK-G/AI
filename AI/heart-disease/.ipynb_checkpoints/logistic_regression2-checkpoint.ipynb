{
 "cells": [
  {
   "cell_type": "code",
   "execution_count": 1,
   "metadata": {},
   "outputs": [],
   "source": [
    "# import necessary modules\n",
    "\n",
    "import pandas as pd\n",
    "import numpy as np\n",
    "from sklearn import preprocessing\n",
    "import matplotlib.pyplot as plt\n",
    "plt.rc(\"font\", size=14)\n",
    "\n",
    "from sklearn.linear_model import LogisticRegression\n",
    "from sklearn.model_selection import train_test_split\n",
    "import seaborn as sns\n",
    "\n",
    "sns.set(style=\"white\")\n",
    "sns.set(style=\"whitegrid\", color_codes=True)"
   ]
  },
  {
   "cell_type": "code",
   "execution_count": 2,
   "metadata": {},
   "outputs": [],
   "source": [
    "# the column names from the heart-disease.names file\n",
    "cols = ['age','sex','cp','trestbps','chol','fbs','restecg','thalach','exang','oldpeak','slope','ca','thal','num']"
   ]
  },
  {
   "cell_type": "code",
   "execution_count": 3,
   "metadata": {},
   "outputs": [],
   "source": [
    "# read in the data with the column names specified (default would read in first row as column names)\n",
    "# df = pd.read_csv('./data/processed_cleveland.data') # this is the default\n",
    "df = pd.read_csv('./data/processed_cleveland.data', header=0, names = cols)\n"
   ]
  },
  {
   "cell_type": "code",
   "execution_count": 4,
   "metadata": {},
   "outputs": [
    {
     "data": {
      "text/html": [
       "<div>\n",
       "<style scoped>\n",
       "    .dataframe tbody tr th:only-of-type {\n",
       "        vertical-align: middle;\n",
       "    }\n",
       "\n",
       "    .dataframe tbody tr th {\n",
       "        vertical-align: top;\n",
       "    }\n",
       "\n",
       "    .dataframe thead th {\n",
       "        text-align: right;\n",
       "    }\n",
       "</style>\n",
       "<table border=\"1\" class=\"dataframe\">\n",
       "  <thead>\n",
       "    <tr style=\"text-align: right;\">\n",
       "      <th></th>\n",
       "      <th>age</th>\n",
       "      <th>sex</th>\n",
       "      <th>cp</th>\n",
       "      <th>trestbps</th>\n",
       "      <th>chol</th>\n",
       "      <th>fbs</th>\n",
       "      <th>restecg</th>\n",
       "      <th>thalach</th>\n",
       "      <th>exang</th>\n",
       "      <th>oldpeak</th>\n",
       "      <th>slope</th>\n",
       "      <th>ca</th>\n",
       "      <th>thal</th>\n",
       "      <th>num</th>\n",
       "    </tr>\n",
       "  </thead>\n",
       "  <tbody>\n",
       "    <tr>\n",
       "      <th>0</th>\n",
       "      <td>67.0</td>\n",
       "      <td>1.0</td>\n",
       "      <td>4.0</td>\n",
       "      <td>160.0</td>\n",
       "      <td>286.0</td>\n",
       "      <td>0.0</td>\n",
       "      <td>2.0</td>\n",
       "      <td>108.0</td>\n",
       "      <td>1.0</td>\n",
       "      <td>1.5</td>\n",
       "      <td>2.0</td>\n",
       "      <td>3.0</td>\n",
       "      <td>3.0</td>\n",
       "      <td>2</td>\n",
       "    </tr>\n",
       "    <tr>\n",
       "      <th>1</th>\n",
       "      <td>67.0</td>\n",
       "      <td>1.0</td>\n",
       "      <td>4.0</td>\n",
       "      <td>120.0</td>\n",
       "      <td>229.0</td>\n",
       "      <td>0.0</td>\n",
       "      <td>2.0</td>\n",
       "      <td>129.0</td>\n",
       "      <td>1.0</td>\n",
       "      <td>2.6</td>\n",
       "      <td>2.0</td>\n",
       "      <td>2.0</td>\n",
       "      <td>7.0</td>\n",
       "      <td>1</td>\n",
       "    </tr>\n",
       "    <tr>\n",
       "      <th>2</th>\n",
       "      <td>37.0</td>\n",
       "      <td>1.0</td>\n",
       "      <td>3.0</td>\n",
       "      <td>130.0</td>\n",
       "      <td>250.0</td>\n",
       "      <td>0.0</td>\n",
       "      <td>0.0</td>\n",
       "      <td>187.0</td>\n",
       "      <td>0.0</td>\n",
       "      <td>3.5</td>\n",
       "      <td>3.0</td>\n",
       "      <td>0.0</td>\n",
       "      <td>3.0</td>\n",
       "      <td>0</td>\n",
       "    </tr>\n",
       "    <tr>\n",
       "      <th>3</th>\n",
       "      <td>41.0</td>\n",
       "      <td>0.0</td>\n",
       "      <td>2.0</td>\n",
       "      <td>130.0</td>\n",
       "      <td>204.0</td>\n",
       "      <td>0.0</td>\n",
       "      <td>2.0</td>\n",
       "      <td>172.0</td>\n",
       "      <td>0.0</td>\n",
       "      <td>1.4</td>\n",
       "      <td>1.0</td>\n",
       "      <td>0.0</td>\n",
       "      <td>3.0</td>\n",
       "      <td>0</td>\n",
       "    </tr>\n",
       "    <tr>\n",
       "      <th>4</th>\n",
       "      <td>56.0</td>\n",
       "      <td>1.0</td>\n",
       "      <td>2.0</td>\n",
       "      <td>120.0</td>\n",
       "      <td>236.0</td>\n",
       "      <td>0.0</td>\n",
       "      <td>0.0</td>\n",
       "      <td>178.0</td>\n",
       "      <td>0.0</td>\n",
       "      <td>0.8</td>\n",
       "      <td>1.0</td>\n",
       "      <td>0.0</td>\n",
       "      <td>3.0</td>\n",
       "      <td>0</td>\n",
       "    </tr>\n",
       "  </tbody>\n",
       "</table>\n",
       "</div>"
      ],
      "text/plain": [
       "    age  sex   cp  trestbps   chol  fbs  restecg  thalach  exang  oldpeak  \\\n",
       "0  67.0  1.0  4.0     160.0  286.0  0.0      2.0    108.0    1.0      1.5   \n",
       "1  67.0  1.0  4.0     120.0  229.0  0.0      2.0    129.0    1.0      2.6   \n",
       "2  37.0  1.0  3.0     130.0  250.0  0.0      0.0    187.0    0.0      3.5   \n",
       "3  41.0  0.0  2.0     130.0  204.0  0.0      2.0    172.0    0.0      1.4   \n",
       "4  56.0  1.0  2.0     120.0  236.0  0.0      0.0    178.0    0.0      0.8   \n",
       "\n",
       "   slope   ca thal  num  \n",
       "0    2.0  3.0  3.0    2  \n",
       "1    2.0  2.0  7.0    1  \n",
       "2    3.0  0.0  3.0    0  \n",
       "3    1.0  0.0  3.0    0  \n",
       "4    1.0  0.0  3.0    0  "
      ]
     },
     "execution_count": 4,
     "metadata": {},
     "output_type": "execute_result"
    }
   ],
   "source": [
    "df.head() # default is first 5 rows df.head(20) would give you the first 20 rows"
   ]
  },
  {
   "cell_type": "code",
   "execution_count": 5,
   "metadata": {},
   "outputs": [
    {
     "name": "stdout",
     "output_type": "stream",
     "text": [
      "<class 'pandas.core.frame.DataFrame'>\n",
      "RangeIndex: 302 entries, 0 to 301\n",
      "Data columns (total 14 columns):\n",
      "age         302 non-null float64\n",
      "sex         302 non-null float64\n",
      "cp          302 non-null float64\n",
      "trestbps    302 non-null float64\n",
      "chol        302 non-null float64\n",
      "fbs         302 non-null float64\n",
      "restecg     302 non-null float64\n",
      "thalach     302 non-null float64\n",
      "exang       302 non-null float64\n",
      "oldpeak     302 non-null float64\n",
      "slope       302 non-null float64\n",
      "ca          302 non-null object\n",
      "thal        302 non-null object\n",
      "num         302 non-null int64\n",
      "dtypes: float64(11), int64(1), object(2)\n",
      "memory usage: 33.2+ KB\n"
     ]
    }
   ],
   "source": [
    "df.info() # general description of the dataframe contents including types, column names and # non-null values"
   ]
  },
  {
   "cell_type": "code",
   "execution_count": 6,
   "metadata": {},
   "outputs": [
    {
     "data": {
      "text/plain": [
       "<matplotlib.axes._subplots.AxesSubplot at 0x1287867d0>"
      ]
     },
     "execution_count": 6,
     "metadata": {},
     "output_type": "execute_result"
    },
    {
     "data": {
      "image/png": "[encoded data removed]",
      "text/plain": [
       "<Figure size 432x288 with 1 Axes>"
      ]
     },
     "metadata": {
      "needs_background": "light"
     },
     "output_type": "display_data"
    }
   ],
   "source": [
    "# countplot on the \"object\" data type columns reveals the presence of ? as null values\n",
    "sns.countplot(x='ca',data=df, palette='hls')"
   ]
  },
  {
   "cell_type": "code",
   "execution_count": 7,
   "metadata": {},
   "outputs": [
    {
     "name": "stderr",
     "output_type": "stream",
     "text": [
      "/Users/sh/Dropbox/venvs/venv_ds/lib/python3.7/site-packages/pandas/core/ops/__init__.py:1115: FutureWarning: elementwise comparison failed; returning scalar instead, but in the future will perform elementwise comparison\n",
      "  result = method(y)\n"
     ]
    }
   ],
   "source": [
    "# the np.where can used to find values within the data frame returns two arrays with row numbers and column numbers\n",
    "rows, cols = np.where(df == '?')"
   ]
  },
  {
   "cell_type": "code",
   "execution_count": 8,
   "metadata": {},
   "outputs": [
    {
     "name": "stdout",
     "output_type": "stream",
     "text": [
      "?\n",
      "?\n",
      "?\n",
      "?\n",
      "?\n",
      "?\n"
     ]
    }
   ],
   "source": [
    "# you can actually iterate through the rows and cols together by first zipping them using the zip command\n",
    "for row, col in zip(rows,cols):\n",
    "    print(df.iloc[row,col]) # the iloc method allows you to select a specific row or column using the index\n",
    "    "
   ]
  },
  {
   "cell_type": "code",
   "execution_count": 9,
   "metadata": {},
   "outputs": [],
   "source": [
    "# read in the information about the heart-disease variables and the study\n",
    "fp = open('./data/heart-disease.names','r')\n",
    "names = fp.read()\n",
    "fp.close()"
   ]
  },
  {
   "cell_type": "code",
   "execution_count": 10,
   "metadata": {},
   "outputs": [
    {
     "name": "stdout",
     "output_type": "stream",
     "text": [
      "Publication Request: \n",
      "   >>>>>>>>>>>>>>>>>>>>>>>>>>>>>>>>>>>>>>>>>>>>>>>>>>>>>>>>>>>>>>>>>>>>>>\n",
      "   This file describes the contents of the heart-disease directory.\n",
      "\n",
      "   This directory contains 4 databases concerning heart disease diagnosis.\n",
      "   All attributes are numeric-valued.  The data was collected from the\n",
      "   four following locations:\n",
      "\n",
      "     1. Cleveland Clinic Foundation (cleveland.data)\n",
      "     2. Hungarian Institute of Cardiology, Budapest (hungarian.data)\n",
      "     3. V.A. Medical Center, Long Beach, CA (long-beach-va.data)\n",
      "     4. University Hospital, Zurich, Switzerland (switzerland.data)\n",
      "\n",
      "   Each database has the same instance format.  While the databases have 76\n",
      "   raw attributes, only 14 of them are actually used.  Thus I've taken the\n",
      "   liberty of making 2 copies of each database: one with all the attributes\n",
      "   and 1 with the 14 attributes actually used in past experiments.\n",
      "\n",
      "   The authors of the databases have requested:\n",
      "\n",
      "      ...that any publications resulting from the use of the data include the \n",
      "      names of the principal investigator responsible for the data collection\n",
      "      at each institution.  They would be:\n",
      "\n",
      "       1. Hungarian Institute of Cardiology. Budapest: Andras Janosi, M.D.\n",
      "       2. University Hospital, Zurich, Switzerland: William Steinbrunn, M.D.\n",
      "       3. University Hospital, Basel, Switzerland: Matthias Pfisterer, M.D.\n",
      "       4. V.A. Medical Center, Long Beach and Cleveland Clinic Foundation:\n",
      "\t  Robert Detrano, M.D., Ph.D.\n",
      "\n",
      "   Thanks in advance for abiding by this request.\n",
      "\n",
      "   David Aha\n",
      "   July 22, 1988\n",
      "   >>>>>>>>>>>>>>>>>>>>>>>>>>>>>>>>>>>>>>>>>>>>>>>>>>>>>>>>>>>>>>>>>>>>>>\n",
      "\n",
      "1. Title: Heart Disease Databases\n",
      "\n",
      "2. Source Information:\n",
      "   (a) Creators: \n",
      "       -- 1. Hungarian Institute of Cardiology. Budapest: Andras Janosi, M.D.\n",
      "       -- 2. University Hospital, Zurich, Switzerland: William Steinbrunn, M.D.\n",
      "       -- 3. University Hospital, Basel, Switzerland: Matthias Pfisterer, M.D.\n",
      "       -- 4. V.A. Medical Center, Long Beach and Cleveland Clinic Foundation:\n",
      "             Robert Detrano, M.D., Ph.D.\n",
      "   (b) Donor: David W. Aha (aha@ics.uci.edu) (714) 856-8779   \n",
      "   (c) Date: July, 1988\n",
      "\n",
      "3. Past Usage:\n",
      "    1. Detrano,~R., Janosi,~A., Steinbrunn,~W., Pfisterer,~M., Schmid,~J.,\n",
      "       Sandhu,~S., Guppy,~K., Lee,~S., \\& Froelicher,~V. (1989).  {\\it \n",
      "       International application of a new probability algorithm for the \n",
      "       diagnosis of coronary artery disease.}  {\\it American Journal of \n",
      "       Cardiology}, {\\it 64},304--310.\n",
      "       -- International Probability Analysis \n",
      "       -- Address: Robert Detrano, M.D.\n",
      "                   Cardiology 111-C\n",
      "                   V.A. Medical Center\n",
      "                   5901 E. 7th Street\n",
      "                   Long Beach, CA 90028\n",
      "       -- Results in percent accuracy: (for 0.5 probability threshold)\n",
      "             Data Name:  CDF    CADENZA\n",
      "          -- Hungarian   77     74\n",
      "             Long beach  79     77\n",
      "             Swiss       81     81\n",
      "          -- Approximately a 77% correct classification accuracy with a\n",
      "             logistic-regression-derived discriminant function\n",
      "    2. David W. Aha & Dennis Kibler\n",
      "       -- \n",
      "          \n",
      "          \n",
      "          -- Instance-based prediction of heart-disease presence with the \n",
      "             Cleveland database\n",
      "             -- NTgrowth: 77.0% accuracy\n",
      "             --       C4: 74.8% accuracy\n",
      "    3. John Gennari\n",
      "       -- Gennari, J.~H., Langley, P, \\& Fisher, D. (1989). Models of\n",
      "          incremental concept formation. {\\it Artificial Intelligence, 40},\n",
      "          11--61.\n",
      "       -- Results: \n",
      "          -- The CLASSIT conceptual clustering system achieved a 78.9% accuracy\n",
      "             on the Cleveland database.\n",
      "\n",
      "4. Relevant Information:\n",
      "     This database contains 76 attributes, but all published experiments\n",
      "     refer to using a subset of 14 of them.  In particular, the Cleveland\n",
      "     database is the only one that has been used by ML researchers to \n",
      "     this date.  The \"goal\" field refers to the presence of heart disease\n",
      "     in the patient.  It is integer valued from 0 (no presence) to 4.\n",
      "     Experiments with the Cleveland database have concentrated on simply\n",
      "     attempting to distinguish presence (values 1,2,3,4) from absence (value\n",
      "     0).  \n",
      "   \n",
      "     The names and social security numbers of the patients were recently \n",
      "     removed from the database, replaced with dummy values.\n",
      "\n",
      "     One file has been \"processed\", that one containing the Cleveland \n",
      "     database.  All four unprocessed files also exist in this directory.\n",
      "    \n",
      "5. Number of Instances: \n",
      "        Database:    # of instances:\n",
      "          Cleveland: 303\n",
      "          Hungarian: 294\n",
      "        Switzerland: 123\n",
      "      Long Beach VA: 200\n",
      "\n",
      "6. Number of Attributes: 76 (including the predicted attribute)\n",
      "\n",
      "7. Attribute Information:\n",
      "   -- Only 14 used\n",
      "      -- 1. #3  (age)       \n",
      "      -- 2. #4  (sex)       \n",
      "      -- 3. #9  (cp)        \n",
      "      -- 4. #10 (trestbps)  \n",
      "      -- 5. #12 (chol)      \n",
      "      -- 6. #16 (fbs)       \n",
      "      -- 7. #19 (restecg)   \n",
      "      -- 8. #32 (thalach)   \n",
      "      -- 9. #38 (exang)     \n",
      "      -- 10. #40 (oldpeak)   \n",
      "      -- 11. #41 (slope)     \n",
      "      -- 12. #44 (ca)        \n",
      "      -- 13. #51 (thal)      \n",
      "      -- 14. #58 (num)       (the predicted attribute)\n",
      "\n",
      "   -- Complete attribute documentation:\n",
      "      1 id: patient identification number\n",
      "      2 ccf: social security number (I replaced this with a dummy value of 0)\n",
      "      3 age: age in years\n",
      "      4 sex: sex (1 = male; 0 = female)\n",
      "      5 painloc: chest pain location (1 = substernal; 0 = otherwise)\n",
      "      6 painexer (1 = provoked by exertion; 0 = otherwise)\n",
      "      7 relrest (1 = relieved after rest; 0 = otherwise)\n",
      "      8 pncaden (sum of 5, 6, and 7)\n",
      "      9 cp: chest pain type\n",
      "        -- Value 1: typical angina\n",
      "        -- Value 2: atypical angina\n",
      "        -- Value 3: non-anginal pain\n",
      "        -- Value 4: asymptomatic\n",
      "     10 trestbps: resting blood pressure (in mm Hg on admission to the \n",
      "        hospital)\n",
      "     11 htn\n",
      "     12 chol: serum cholestoral in mg/dl\n",
      "     13 smoke: I believe this is 1 = yes; 0 = no (is or is not a smoker)\n",
      "     14 cigs (cigarettes per day)\n",
      "     15 years (number of years as a smoker)\n",
      "     16 fbs: (fasting blood sugar > 120 mg/dl)  (1 = true; 0 = false)\n",
      "     17 dm (1 = history of diabetes; 0 = no such history)\n",
      "     18 famhist: family history of coronary artery disease (1 = yes; 0 = no)\n",
      "     19 restecg: resting electrocardiographic results\n",
      "        -- Value 0: normal\n",
      "        -- Value 1: having ST-T wave abnormality (T wave inversions and/or ST \n",
      "                    elevation or depression of > 0.05 mV)\n",
      "        -- Value 2: showing probable or definite left ventricular hypertrophy\n",
      "                    by Estes' criteria\n",
      "     20 ekgmo (month of exercise ECG reading)\n",
      "     21 ekgday(day of exercise ECG reading)\n",
      "     22 ekgyr (year of exercise ECG reading)\n",
      "     23 dig (digitalis used furing exercise ECG: 1 = yes; 0 = no)\n",
      "     24 prop (Beta blocker used during exercise ECG: 1 = yes; 0 = no)\n",
      "     25 nitr (nitrates used during exercise ECG: 1 = yes; 0 = no)\n",
      "     26 pro (calcium channel blocker used during exercise ECG: 1 = yes; 0 = no)\n",
      "     27 diuretic (diuretic used used during exercise ECG: 1 = yes; 0 = no)\n",
      "     28 proto: exercise protocol\n",
      "          1 = Bruce     \n",
      "          2 = Kottus\n",
      "          3 = McHenry\n",
      "          4 = fast Balke\n",
      "          5 = Balke\n",
      "          6 = Noughton \n",
      "          7 = bike 150 kpa min/min  (Not sure if \"kpa min/min\" is what was \n",
      "              written!)\n",
      "          8 = bike 125 kpa min/min  \n",
      "          9 = bike 100 kpa min/min\n",
      "         10 = bike 75 kpa min/min\n",
      "         11 = bike 50 kpa min/min\n",
      "         12 = arm ergometer\n",
      "     29 thaldur: duration of exercise test in minutes\n",
      "     30 thaltime: time when ST measure depression was noted\n",
      "     31 met: mets achieved\n",
      "     32 thalach: maximum heart rate achieved\n",
      "     33 thalrest: resting heart rate\n",
      "     34 tpeakbps: peak exercise blood pressure (first of 2 parts)\n",
      "     35 tpeakbpd: peak exercise blood pressure (second of 2 parts)\n",
      "     36 dummy\n",
      "     37 trestbpd: resting blood pressure\n",
      "     38 exang: exercise induced angina (1 = yes; 0 = no)\n",
      "     39 xhypo: (1 = yes; 0 = no)\n",
      "     40 oldpeak = ST depression induced by exercise relative to rest\n",
      "     41 slope: the slope of the peak exercise ST segment\n",
      "        -- Value 1: upsloping\n",
      "        -- Value 2: flat\n",
      "        -- Value 3: downsloping\n",
      "     42 rldv5: height at rest\n",
      "     43 rldv5e: height at peak exercise\n",
      "     44 ca: number of major vessels (0-3) colored by flourosopy\n",
      "     45 restckm: irrelevant\n",
      "     46 exerckm: irrelevant\n",
      "     47 restef: rest raidonuclid (sp?) ejection fraction\n",
      "     48 restwm: rest wall (sp?) motion abnormality\n",
      "        0 = none\n",
      "        1 = mild or moderate\n",
      "        2 = moderate or severe\n",
      "        3 = akinesis or dyskmem (sp?)\n",
      "     49 exeref: exercise radinalid (sp?) ejection fraction\n",
      "     50 exerwm: exercise wall (sp?) motion \n",
      "     51 thal: 3 = normal; 6 = fixed defect; 7 = reversable defect\n",
      "     52 thalsev: not used\n",
      "     53 thalpul: not used\n",
      "     54 earlobe: not used\n",
      "     55 cmo: month of cardiac cath (sp?)  (perhaps \"call\")\n",
      "     56 cday: day of cardiac cath (sp?)\n",
      "     57 cyr: year of cardiac cath (sp?)\n",
      "     58 num: diagnosis of heart disease (angiographic disease status)\n",
      "        -- Value 0: < 50% diameter narrowing\n",
      "        -- Value 1: > 50% diameter narrowing\n",
      "        (in any major vessel: attributes 59 through 68 are vessels)\n",
      "     59 lmt\n",
      "     60 ladprox\n",
      "     61 laddist\n",
      "     62 diag\n",
      "     63 cxmain\n",
      "     64 ramus\n",
      "     65 om1\n",
      "     66 om2\n",
      "     67 rcaprox\n",
      "     68 rcadist\n",
      "     69 lvx1: not used\n",
      "     70 lvx2: not used\n",
      "     71 lvx3: not used\n",
      "     72 lvx4: not used\n",
      "     73 lvf: not used\n",
      "     74 cathef: not used\n",
      "     75 junk: not used\n",
      "     76 name: last name of patient \n",
      "\t(I replaced this with the dummy string \"name\")\n",
      "\n",
      "9. Missing Attribute Values: Several.  Distinguished with value -9.0.\n",
      "\n",
      "10. Class Distribution:\n",
      "        Database:      0   1   2   3   4 Total\n",
      "          Cleveland: 164  55  36  35  13   303\n",
      "          Hungarian: 188  37  26  28  15   294\n",
      "        Switzerland:   8  48  32  30   5   123\n",
      "      Long Beach VA:  51  56  41  42  10   200\n",
      "\n"
     ]
    }
   ],
   "source": [
    "print(names)"
   ]
  },
  {
   "cell_type": "code",
   "execution_count": 11,
   "metadata": {},
   "outputs": [
    {
     "data": {
      "text/plain": [
       "array([2, 1, 0, 3, 4])"
      ]
     },
     "execution_count": 11,
     "metadata": {},
     "output_type": "execute_result"
    }
   ],
   "source": [
    "# df.num selects the column name called num from the dataframe df\n",
    "# .unique() collects all of the different values\n",
    "\n",
    "df.num.unique()"
   ]
  },
  {
   "cell_type": "code",
   "execution_count": 12,
   "metadata": {},
   "outputs": [],
   "source": [
    "# created some more meaningful names for the columns\n",
    "cols = ['age','sex','chest_pain_type','resting_bp','cholestoral','fasting_blood_sugar','resting_ecg','max_heart_rate','exercise_induced_angina','st_depr_w_exercise','slope','num_blood_vessels','thal','has_disease']\n",
    "# use the na_values to replace the ? with a NaN\n",
    "df2 = pd.read_csv('./data/processed_cleveland.data', header=0, names = cols, na_values = ['?'])"
   ]
  },
  {
   "cell_type": "code",
   "execution_count": 13,
   "metadata": {},
   "outputs": [
    {
     "name": "stdout",
     "output_type": "stream",
     "text": [
      "<class 'pandas.core.frame.DataFrame'>\n",
      "RangeIndex: 302 entries, 0 to 301\n",
      "Data columns (total 14 columns):\n",
      "age                        302 non-null float64\n",
      "sex                        302 non-null float64\n",
      "chest_pain_type            302 non-null float64\n",
      "resting_bp                 302 non-null float64\n",
      "cholestoral                302 non-null float64\n",
      "fasting_blood_sugar        302 non-null float64\n",
      "resting_ecg                302 non-null float64\n",
      "max_heart_rate             302 non-null float64\n",
      "exercise_induced_angina    302 non-null float64\n",
      "st_depr_w_exercise         302 non-null float64\n",
      "slope                      302 non-null float64\n",
      "num_blood_vessels          298 non-null float64\n",
      "thal                       300 non-null float64\n",
      "has_disease                302 non-null int64\n",
      "dtypes: float64(13), int64(1)\n",
      "memory usage: 33.2 KB\n"
     ]
    }
   ],
   "source": [
    "\n",
    "df2.info()"
   ]
  },
  {
   "cell_type": "code",
   "execution_count": 14,
   "metadata": {},
   "outputs": [
    {
     "name": "stdout",
     "output_type": "stream",
     "text": [
      "<class 'pandas.core.frame.DataFrame'>\n",
      "Int64Index: 296 entries, 0 to 300\n",
      "Data columns (total 14 columns):\n",
      "age                        296 non-null float64\n",
      "sex                        296 non-null float64\n",
      "chest_pain_type            296 non-null float64\n",
      "resting_bp                 296 non-null float64\n",
      "cholestoral                296 non-null float64\n",
      "fasting_blood_sugar        296 non-null float64\n",
      "resting_ecg                296 non-null float64\n",
      "max_heart_rate             296 non-null float64\n",
      "exercise_induced_angina    296 non-null float64\n",
      "st_depr_w_exercise         296 non-null float64\n",
      "slope                      296 non-null float64\n",
      "num_blood_vessels          296 non-null float64\n",
      "thal                       296 non-null float64\n",
      "has_disease                296 non-null int64\n",
      "dtypes: float64(13), int64(1)\n",
      "memory usage: 34.7 KB\n"
     ]
    }
   ],
   "source": [
    "# lets get rid of the rows that have NaN value. The default for the parameter inplace is False. \n",
    "# if we did not set inplace to True we would need to do the following\n",
    "# df2 = df2.dropna() to get the same result\n",
    "\n",
    "df2.dropna(inplace=True)\n",
    "\n",
    "df2.info()"
   ]
  },
  {
   "cell_type": "code",
   "execution_count": 15,
   "metadata": {},
   "outputs": [
    {
     "data": {
      "text/plain": [
       "<matplotlib.axes._subplots.AxesSubplot at 0x128eaabd0>"
      ]
     },
     "execution_count": 15,
     "metadata": {},
     "output_type": "execute_result"
    },
    {
     "data": {
      "image/png": "[encoded data removed]",
      "text/plain": [
       "<Figure size 432x288 with 1 Axes>"
      ]
     },
     "metadata": {
      "needs_background": "light"
     },
     "output_type": "display_data"
    }
   ],
   "source": [
    "# show a count of the different values for has_disease\n",
    "sns.countplot(x = 'has_disease', data=df2)"
   ]
  },
  {
   "cell_type": "code",
   "execution_count": 16,
   "metadata": {},
   "outputs": [
    {
     "data": {
      "text/plain": [
       "array([1, 0])"
      ]
     },
     "execution_count": 16,
     "metadata": {},
     "output_type": "execute_result"
    }
   ],
   "source": [
    "# Since we want our classification to be binary let's convert has_disease to a binary by \n",
    "# making all non-zero values equal to 1\n",
    "# write a function to convert has_disease to a binary categorical\n",
    "def convert_disease(row):\n",
    "    if row.has_disease > 0:\n",
    "        return 1\n",
    "    else:\n",
    "        return 0\n",
    "\n",
    "# use the apply function to perform the function on the dataframe \n",
    "df2.has_disease = df2.apply(convert_disease, axis=1)\n",
    "\n",
    "df2.has_disease.unique()"
   ]
  },
  {
   "cell_type": "code",
   "execution_count": 17,
   "metadata": {},
   "outputs": [
    {
     "data": {
      "text/plain": [
       "<matplotlib.axes._subplots.AxesSubplot at 0x12b18b290>"
      ]
     },
     "execution_count": 17,
     "metadata": {},
     "output_type": "execute_result"
    },
    {
     "data": {
      "image/png": "[encoded data removed]",
      "text/plain": [
       "<Figure size 432x288 with 1 Axes>"
      ]
     },
     "metadata": {
      "needs_background": "light"
     },
     "output_type": "display_data"
    }
   ],
   "source": [
    "# show a count of the different values for has_disease\n",
    "sns.countplot(y = 'has_disease', data=df2)"
   ]
  },
  {
   "cell_type": "code",
   "execution_count": 18,
   "metadata": {},
   "outputs": [],
   "source": [
    "# specify the categorical variables with more than 2 unique values\n",
    "categorical = ['chest_pain_type','resting_ecg','slope','num_blood_vessels','thal' ]"
   ]
  },
  {
   "cell_type": "code",
   "execution_count": 19,
   "metadata": {},
   "outputs": [],
   "source": [
    "# get dummies creates new columns for non-binary categorical variables \n",
    "data2 = pd.get_dummies(df2, columns =categorical)"
   ]
  },
  {
   "cell_type": "code",
   "execution_count": 22,
   "metadata": {},
   "outputs": [
    {
     "data": {
      "text/html": [
       "<div>\n",
       "<style scoped>\n",
       "    .dataframe tbody tr th:only-of-type {\n",
       "        vertical-align: middle;\n",
       "    }\n",
       "\n",
       "    .dataframe tbody tr th {\n",
       "        vertical-align: top;\n",
       "    }\n",
       "\n",
       "    .dataframe thead th {\n",
       "        text-align: right;\n",
       "    }\n",
       "</style>\n",
       "<table border=\"1\" class=\"dataframe\">\n",
       "  <thead>\n",
       "    <tr style=\"text-align: right;\">\n",
       "      <th></th>\n",
       "      <th>age</th>\n",
       "      <th>sex</th>\n",
       "      <th>resting_bp</th>\n",
       "      <th>cholestoral</th>\n",
       "      <th>fasting_blood_sugar</th>\n",
       "      <th>max_heart_rate</th>\n",
       "      <th>exercise_induced_angina</th>\n",
       "      <th>st_depr_w_exercise</th>\n",
       "      <th>has_disease</th>\n",
       "      <th>chest_pain_type_1.0</th>\n",
       "      <th>...</th>\n",
       "      <th>slope_1.0</th>\n",
       "      <th>slope_2.0</th>\n",
       "      <th>slope_3.0</th>\n",
       "      <th>num_blood_vessels_0.0</th>\n",
       "      <th>num_blood_vessels_1.0</th>\n",
       "      <th>num_blood_vessels_2.0</th>\n",
       "      <th>num_blood_vessels_3.0</th>\n",
       "      <th>thal_3.0</th>\n",
       "      <th>thal_6.0</th>\n",
       "      <th>thal_7.0</th>\n",
       "    </tr>\n",
       "  </thead>\n",
       "  <tbody>\n",
       "    <tr>\n",
       "      <th>0</th>\n",
       "      <td>67.0</td>\n",
       "      <td>1.0</td>\n",
       "      <td>160.0</td>\n",
       "      <td>286.0</td>\n",
       "      <td>0.0</td>\n",
       "      <td>108.0</td>\n",
       "      <td>1.0</td>\n",
       "      <td>1.5</td>\n",
       "      <td>1</td>\n",
       "      <td>0</td>\n",
       "      <td>...</td>\n",
       "      <td>0</td>\n",
       "      <td>1</td>\n",
       "      <td>0</td>\n",
       "      <td>0</td>\n",
       "      <td>0</td>\n",
       "      <td>0</td>\n",
       "      <td>1</td>\n",
       "      <td>1</td>\n",
       "      <td>0</td>\n",
       "      <td>0</td>\n",
       "    </tr>\n",
       "    <tr>\n",
       "      <th>1</th>\n",
       "      <td>67.0</td>\n",
       "      <td>1.0</td>\n",
       "      <td>120.0</td>\n",
       "      <td>229.0</td>\n",
       "      <td>0.0</td>\n",
       "      <td>129.0</td>\n",
       "      <td>1.0</td>\n",
       "      <td>2.6</td>\n",
       "      <td>1</td>\n",
       "      <td>0</td>\n",
       "      <td>...</td>\n",
       "      <td>0</td>\n",
       "      <td>1</td>\n",
       "      <td>0</td>\n",
       "      <td>0</td>\n",
       "      <td>0</td>\n",
       "      <td>1</td>\n",
       "      <td>0</td>\n",
       "      <td>0</td>\n",
       "      <td>0</td>\n",
       "      <td>1</td>\n",
       "    </tr>\n",
       "    <tr>\n",
       "      <th>2</th>\n",
       "      <td>37.0</td>\n",
       "      <td>1.0</td>\n",
       "      <td>130.0</td>\n",
       "      <td>250.0</td>\n",
       "      <td>0.0</td>\n",
       "      <td>187.0</td>\n",
       "      <td>0.0</td>\n",
       "      <td>3.5</td>\n",
       "      <td>0</td>\n",
       "      <td>0</td>\n",
       "      <td>...</td>\n",
       "      <td>0</td>\n",
       "      <td>0</td>\n",
       "      <td>1</td>\n",
       "      <td>1</td>\n",
       "      <td>0</td>\n",
       "      <td>0</td>\n",
       "      <td>0</td>\n",
       "      <td>1</td>\n",
       "      <td>0</td>\n",
       "      <td>0</td>\n",
       "    </tr>\n",
       "    <tr>\n",
       "      <th>3</th>\n",
       "      <td>41.0</td>\n",
       "      <td>0.0</td>\n",
       "      <td>130.0</td>\n",
       "      <td>204.0</td>\n",
       "      <td>0.0</td>\n",
       "      <td>172.0</td>\n",
       "      <td>0.0</td>\n",
       "      <td>1.4</td>\n",
       "      <td>0</td>\n",
       "      <td>0</td>\n",
       "      <td>...</td>\n",
       "      <td>1</td>\n",
       "      <td>0</td>\n",
       "      <td>0</td>\n",
       "      <td>1</td>\n",
       "      <td>0</td>\n",
       "      <td>0</td>\n",
       "      <td>0</td>\n",
       "      <td>1</td>\n",
       "      <td>0</td>\n",
       "      <td>0</td>\n",
       "    </tr>\n",
       "    <tr>\n",
       "      <th>4</th>\n",
       "      <td>56.0</td>\n",
       "      <td>1.0</td>\n",
       "      <td>120.0</td>\n",
       "      <td>236.0</td>\n",
       "      <td>0.0</td>\n",
       "      <td>178.0</td>\n",
       "      <td>0.0</td>\n",
       "      <td>0.8</td>\n",
       "      <td>0</td>\n",
       "      <td>0</td>\n",
       "      <td>...</td>\n",
       "      <td>1</td>\n",
       "      <td>0</td>\n",
       "      <td>0</td>\n",
       "      <td>1</td>\n",
       "      <td>0</td>\n",
       "      <td>0</td>\n",
       "      <td>0</td>\n",
       "      <td>1</td>\n",
       "      <td>0</td>\n",
       "      <td>0</td>\n",
       "    </tr>\n",
       "  </tbody>\n",
       "</table>\n",
       "<p>5 rows × 26 columns</p>\n",
       "</div>"
      ],
      "text/plain": [
       "    age  sex  resting_bp  cholestoral  fasting_blood_sugar  max_heart_rate  \\\n",
       "0  67.0  1.0       160.0        286.0                  0.0           108.0   \n",
       "1  67.0  1.0       120.0        229.0                  0.0           129.0   \n",
       "2  37.0  1.0       130.0        250.0                  0.0           187.0   \n",
       "3  41.0  0.0       130.0        204.0                  0.0           172.0   \n",
       "4  56.0  1.0       120.0        236.0                  0.0           178.0   \n",
       "\n",
       "   exercise_induced_angina  st_depr_w_exercise  has_disease  \\\n",
       "0                      1.0                 1.5            1   \n",
       "1                      1.0                 2.6            1   \n",
       "2                      0.0                 3.5            0   \n",
       "3                      0.0                 1.4            0   \n",
       "4                      0.0                 0.8            0   \n",
       "\n",
       "   chest_pain_type_1.0  ...  slope_1.0  slope_2.0  slope_3.0  \\\n",
       "0                    0  ...          0          1          0   \n",
       "1                    0  ...          0          1          0   \n",
       "2                    0  ...          0          0          1   \n",
       "3                    0  ...          1          0          0   \n",
       "4                    0  ...          1          0          0   \n",
       "\n",
       "   num_blood_vessels_0.0  num_blood_vessels_1.0  num_blood_vessels_2.0  \\\n",
       "0                      0                      0                      0   \n",
       "1                      0                      0                      1   \n",
       "2                      1                      0                      0   \n",
       "3                      1                      0                      0   \n",
       "4                      1                      0                      0   \n",
       "\n",
       "   num_blood_vessels_3.0  thal_3.0  thal_6.0  thal_7.0  \n",
       "0                      1         1         0         0  \n",
       "1                      0         0         0         1  \n",
       "2                      0         1         0         0  \n",
       "3                      0         1         0         0  \n",
       "4                      0         1         0         0  \n",
       "\n",
       "[5 rows x 26 columns]"
      ]
     },
     "execution_count": 22,
     "metadata": {},
     "output_type": "execute_result"
    }
   ],
   "source": [
    "data2.head()"
   ]
  },
  {
   "cell_type": "code",
   "execution_count": 23,
   "metadata": {},
   "outputs": [
    {
     "name": "stdout",
     "output_type": "stream",
     "text": [
      "['age', 'sex', 'resting_bp', 'cholestoral', 'fasting_blood_sugar', 'max_heart_rate', 'exercise_induced_angina', 'st_depr_w_exercise', 'has_disease', 'chest_pain_type_1.0', 'chest_pain_type_2.0', 'chest_pain_type_3.0', 'chest_pain_type_4.0', 'resting_ecg_0.0', 'resting_ecg_1.0', 'resting_ecg_2.0', 'slope_1.0', 'slope_2.0', 'slope_3.0', 'num_blood_vessels_0.0', 'num_blood_vessels_1.0', 'num_blood_vessels_2.0', 'num_blood_vessels_3.0', 'thal_3.0', 'thal_6.0', 'thal_7.0']\n"
     ]
    }
   ],
   "source": [
    "# we need to put the has_disease column first so that it is easy to separate from the other variables\n",
    "# print the current columns as a list \n",
    "print(list(data2.columns.values))"
   ]
  },
  {
   "cell_type": "code",
   "execution_count": 24,
   "metadata": {},
   "outputs": [
    {
     "data": {
      "text/html": [
       "<div>\n",
       "<style scoped>\n",
       "    .dataframe tbody tr th:only-of-type {\n",
       "        vertical-align: middle;\n",
       "    }\n",
       "\n",
       "    .dataframe tbody tr th {\n",
       "        vertical-align: top;\n",
       "    }\n",
       "\n",
       "    .dataframe thead th {\n",
       "        text-align: right;\n",
       "    }\n",
       "</style>\n",
       "<table border=\"1\" class=\"dataframe\">\n",
       "  <thead>\n",
       "    <tr style=\"text-align: right;\">\n",
       "      <th></th>\n",
       "      <th>has_disease</th>\n",
       "      <th>age</th>\n",
       "      <th>sex</th>\n",
       "      <th>resting_bp</th>\n",
       "      <th>cholestoral</th>\n",
       "      <th>fasting_blood_sugar</th>\n",
       "      <th>max_heart_rate</th>\n",
       "      <th>exercise_induced_angina</th>\n",
       "      <th>st_depr_w_exercise</th>\n",
       "      <th>chest_pain_type_1.0</th>\n",
       "      <th>...</th>\n",
       "      <th>slope_1.0</th>\n",
       "      <th>slope_2.0</th>\n",
       "      <th>slope_3.0</th>\n",
       "      <th>num_blood_vessels_0.0</th>\n",
       "      <th>num_blood_vessels_1.0</th>\n",
       "      <th>num_blood_vessels_2.0</th>\n",
       "      <th>num_blood_vessels_3.0</th>\n",
       "      <th>thal_3.0</th>\n",
       "      <th>thal_6.0</th>\n",
       "      <th>thal_7.0</th>\n",
       "    </tr>\n",
       "  </thead>\n",
       "  <tbody>\n",
       "    <tr>\n",
       "      <th>0</th>\n",
       "      <td>1</td>\n",
       "      <td>67.0</td>\n",
       "      <td>1.0</td>\n",
       "      <td>160.0</td>\n",
       "      <td>286.0</td>\n",
       "      <td>0.0</td>\n",
       "      <td>108.0</td>\n",
       "      <td>1.0</td>\n",
       "      <td>1.5</td>\n",
       "      <td>0</td>\n",
       "      <td>...</td>\n",
       "      <td>0</td>\n",
       "      <td>1</td>\n",
       "      <td>0</td>\n",
       "      <td>0</td>\n",
       "      <td>0</td>\n",
       "      <td>0</td>\n",
       "      <td>1</td>\n",
       "      <td>1</td>\n",
       "      <td>0</td>\n",
       "      <td>0</td>\n",
       "    </tr>\n",
       "    <tr>\n",
       "      <th>1</th>\n",
       "      <td>1</td>\n",
       "      <td>67.0</td>\n",
       "      <td>1.0</td>\n",
       "      <td>120.0</td>\n",
       "      <td>229.0</td>\n",
       "      <td>0.0</td>\n",
       "      <td>129.0</td>\n",
       "      <td>1.0</td>\n",
       "      <td>2.6</td>\n",
       "      <td>0</td>\n",
       "      <td>...</td>\n",
       "      <td>0</td>\n",
       "      <td>1</td>\n",
       "      <td>0</td>\n",
       "      <td>0</td>\n",
       "      <td>0</td>\n",
       "      <td>1</td>\n",
       "      <td>0</td>\n",
       "      <td>0</td>\n",
       "      <td>0</td>\n",
       "      <td>1</td>\n",
       "    </tr>\n",
       "    <tr>\n",
       "      <th>2</th>\n",
       "      <td>0</td>\n",
       "      <td>37.0</td>\n",
       "      <td>1.0</td>\n",
       "      <td>130.0</td>\n",
       "      <td>250.0</td>\n",
       "      <td>0.0</td>\n",
       "      <td>187.0</td>\n",
       "      <td>0.0</td>\n",
       "      <td>3.5</td>\n",
       "      <td>0</td>\n",
       "      <td>...</td>\n",
       "      <td>0</td>\n",
       "      <td>0</td>\n",
       "      <td>1</td>\n",
       "      <td>1</td>\n",
       "      <td>0</td>\n",
       "      <td>0</td>\n",
       "      <td>0</td>\n",
       "      <td>1</td>\n",
       "      <td>0</td>\n",
       "      <td>0</td>\n",
       "    </tr>\n",
       "    <tr>\n",
       "      <th>3</th>\n",
       "      <td>0</td>\n",
       "      <td>41.0</td>\n",
       "      <td>0.0</td>\n",
       "      <td>130.0</td>\n",
       "      <td>204.0</td>\n",
       "      <td>0.0</td>\n",
       "      <td>172.0</td>\n",
       "      <td>0.0</td>\n",
       "      <td>1.4</td>\n",
       "      <td>0</td>\n",
       "      <td>...</td>\n",
       "      <td>1</td>\n",
       "      <td>0</td>\n",
       "      <td>0</td>\n",
       "      <td>1</td>\n",
       "      <td>0</td>\n",
       "      <td>0</td>\n",
       "      <td>0</td>\n",
       "      <td>1</td>\n",
       "      <td>0</td>\n",
       "      <td>0</td>\n",
       "    </tr>\n",
       "    <tr>\n",
       "      <th>4</th>\n",
       "      <td>0</td>\n",
       "      <td>56.0</td>\n",
       "      <td>1.0</td>\n",
       "      <td>120.0</td>\n",
       "      <td>236.0</td>\n",
       "      <td>0.0</td>\n",
       "      <td>178.0</td>\n",
       "      <td>0.0</td>\n",
       "      <td>0.8</td>\n",
       "      <td>0</td>\n",
       "      <td>...</td>\n",
       "      <td>1</td>\n",
       "      <td>0</td>\n",
       "      <td>0</td>\n",
       "      <td>1</td>\n",
       "      <td>0</td>\n",
       "      <td>0</td>\n",
       "      <td>0</td>\n",
       "      <td>1</td>\n",
       "      <td>0</td>\n",
       "      <td>0</td>\n",
       "    </tr>\n",
       "  </tbody>\n",
       "</table>\n",
       "<p>5 rows × 26 columns</p>\n",
       "</div>"
      ],
      "text/plain": [
       "   has_disease   age  sex  resting_bp  cholestoral  fasting_blood_sugar  \\\n",
       "0            1  67.0  1.0       160.0        286.0                  0.0   \n",
       "1            1  67.0  1.0       120.0        229.0                  0.0   \n",
       "2            0  37.0  1.0       130.0        250.0                  0.0   \n",
       "3            0  41.0  0.0       130.0        204.0                  0.0   \n",
       "4            0  56.0  1.0       120.0        236.0                  0.0   \n",
       "\n",
       "   max_heart_rate  exercise_induced_angina  st_depr_w_exercise  \\\n",
       "0           108.0                      1.0                 1.5   \n",
       "1           129.0                      1.0                 2.6   \n",
       "2           187.0                      0.0                 3.5   \n",
       "3           172.0                      0.0                 1.4   \n",
       "4           178.0                      0.0                 0.8   \n",
       "\n",
       "   chest_pain_type_1.0  ...  slope_1.0  slope_2.0  slope_3.0  \\\n",
       "0                    0  ...          0          1          0   \n",
       "1                    0  ...          0          1          0   \n",
       "2                    0  ...          0          0          1   \n",
       "3                    0  ...          1          0          0   \n",
       "4                    0  ...          1          0          0   \n",
       "\n",
       "   num_blood_vessels_0.0  num_blood_vessels_1.0  num_blood_vessels_2.0  \\\n",
       "0                      0                      0                      0   \n",
       "1                      0                      0                      1   \n",
       "2                      1                      0                      0   \n",
       "3                      1                      0                      0   \n",
       "4                      1                      0                      0   \n",
       "\n",
       "   num_blood_vessels_3.0  thal_3.0  thal_6.0  thal_7.0  \n",
       "0                      1         1         0         0  \n",
       "1                      0         0         0         1  \n",
       "2                      0         1         0         0  \n",
       "3                      0         1         0         0  \n",
       "4                      0         1         0         0  \n",
       "\n",
       "[5 rows x 26 columns]"
      ]
     },
     "execution_count": 24,
     "metadata": {},
     "output_type": "execute_result"
    }
   ],
   "source": [
    "# copy the columns list and rearrange so that has_disease is first then rearrage using the selection below\n",
    "\n",
    "cols = ['has_disease', 'age', 'sex', 'resting_bp', 'cholestoral', 'fasting_blood_sugar', 'max_heart_rate', 'exercise_induced_angina', 'st_depr_w_exercise', 'chest_pain_type_1.0', 'chest_pain_type_2.0', 'chest_pain_type_3.0', 'chest_pain_type_4.0', 'resting_ecg_0.0', 'resting_ecg_1.0', 'resting_ecg_2.0', 'slope_1.0', 'slope_2.0', 'slope_3.0', 'num_blood_vessels_0.0', 'num_blood_vessels_1.0', 'num_blood_vessels_2.0', 'num_blood_vessels_3.0', 'thal_3.0', 'thal_6.0', 'thal_7.0']\n",
    "\n",
    "# set data2 to the new order by passing cols into the square brackets\n",
    "data2 = data2[cols]\n",
    "\n",
    "data2.head()"
   ]
  },
  {
   "cell_type": "code",
   "execution_count": 25,
   "metadata": {},
   "outputs": [
    {
     "name": "stdout",
     "output_type": "stream",
     "text": [
      "The training dataset has dimensions: (222, 25) and the test dataset has dimensions: (74, 25)\n"
     ]
    }
   ],
   "source": [
    "# Now we are getting ready to perform the Logistic Regression\n",
    "# split the data into X and y values where y (the result) is the first column \n",
    "# and X (the predictor variables) contains everything else \n",
    "X = data2.iloc[:,1:]\n",
    "y = data2.iloc[:,0]\n",
    "\n",
    "# split the data using the default ratio of 75% training, 25% test\n",
    "X_train, X_test, y_train, y_test = train_test_split(X, y, random_state=0)\n",
    "#X_train, X_test, y_train, y_test = train_test_split(X, y)\n",
    "\n",
    "# print the shapes of the two datasets\n",
    "\n",
    "print('The training dataset has dimensions: {0:s} and the test dataset has dimensions: {1:s}'.format(str(X_train.shape),str(X_test.shape)))"
   ]
  },
  {
   "cell_type": "code",
   "execution_count": 26,
   "metadata": {},
   "outputs": [
    {
     "name": "stderr",
     "output_type": "stream",
     "text": [
      "/Users/sh/Dropbox/venvs/venv_ds/lib/python3.7/site-packages/sklearn/linear_model/logistic.py:432: FutureWarning: Default solver will be changed to 'lbfgs' in 0.22. Specify a solver to silence this warning.\n",
      "  FutureWarning)\n"
     ]
    }
   ],
   "source": [
    "# make an instance of the Logistic Regression classifier. \n",
    "# By setting random_state=0 you get the same results each time you run it.\n",
    "# you can actually choose any number for the random state. \n",
    "# As long as you use the same number, you get the same result\n",
    "classifier = LogisticRegression(random_state=0)\n",
    "\n",
    "# Perform a fit to the training data\n",
    "model = classifier.fit(X_train, y_train)\n"
   ]
  },
  {
   "cell_type": "code",
   "execution_count": 27,
   "metadata": {},
   "outputs": [
    {
     "name": "stdout",
     "output_type": "stream",
     "text": [
      "[[38  3]\n",
      " [ 8 25]]\n"
     ]
    }
   ],
   "source": [
    "#The confusion_matrix() function will calculate a confusion matrix and return the result as an array.\n",
    "# perform a prediction for each X in the test set\n",
    "y_pred = classifier.predict(X_test)\n",
    "\n",
    "# import the confusion_matrix function to analyze the results\n",
    "from sklearn.metrics import confusion_matrix\n",
    "confusion_matrix = confusion_matrix(y_test, y_pred)\n",
    "print(confusion_matrix)\n"
   ]
  },
  {
   "cell_type": "code",
   "execution_count": 28,
   "metadata": {},
   "outputs": [
    {
     "name": "stdout",
     "output_type": "stream",
     "text": [
      "Accuracy of logistic regression classifier on training set: 0.88\n",
      "Accuracy of logistic regression classifier on test set: 0.85\n"
     ]
    }
   ],
   "source": [
    "#Accuracy\n",
    "print('Accuracy of logistic regression classifier on training set: {:.2f}'.format(classifier.score(X_train, y_train)))\n",
    "print('Accuracy of logistic regression classifier on test set: {:.2f}'.format(classifier.score(X_test, y_test)))"
   ]
  },
  {
   "cell_type": "markdown",
   "metadata": {},
   "source": [
    "At this point we have our first regression test. \n",
    "\n",
    "Our regression test produced reasonable results but we have a very large number of predictor variables. Let's see how significant the different variables are for predicting the results. This may help us to eliminate variables that provide little predictive power and allow our model to just use the predictors that have high correlation to the result.\n",
    "\n",
    "One way of determining what methods and attributes are available in the Logistic Regression class that our model is based on is to use the dir() method."
   ]
  },
  {
   "cell_type": "code",
   "execution_count": 30,
   "metadata": {},
   "outputs": [
    {
     "name": "stdout",
     "output_type": "stream",
     "text": [
      "['C', '__class__', '__delattr__', '__dict__', '__dir__', '__doc__', '__eq__', '__format__', '__ge__', '__getattribute__', '__getstate__', '__gt__', '__hash__', '__init__', '__init_subclass__', '__le__', '__lt__', '__module__', '__ne__', '__new__', '__reduce__', '__reduce_ex__', '__repr__', '__setattr__', '__setstate__', '__sizeof__', '__str__', '__subclasshook__', '__weakref__', '_estimator_type', '_get_param_names', '_get_tags', '_predict_proba_lr', 'class_weight', 'classes_', 'coef_', 'decision_function', 'densify', 'dual', 'fit', 'fit_intercept', 'get_params', 'intercept_', 'intercept_scaling', 'l1_ratio', 'max_iter', 'multi_class', 'n_iter_', 'n_jobs', 'penalty', 'predict', 'predict_log_proba', 'predict_proba', 'random_state', 'score', 'set_params', 'solver', 'sparsify', 'tol', 'verbose', 'warm_start']\n"
     ]
    }
   ],
   "source": [
    "# let's find out which variables and methods are available to the model logistic regression\n",
    "print(dir(model))"
   ]
  },
  {
   "cell_type": "markdown",
   "metadata": {},
   "source": [
    "We have already used the \"score\" method to determine the accuracy of our model with training and test datasets.\n",
    "\n",
    "We can also see the attribute called coef_ which contains the coefficients of our logistic regression equation."
   ]
  },
  {
   "cell_type": "code",
   "execution_count": 31,
   "metadata": {},
   "outputs": [
    {
     "name": "stdout",
     "output_type": "stream",
     "text": [
      "[[-0.02037809  1.11414115  0.02661948  0.00394681 -0.02211274 -0.02738723\n",
      "   0.34620122  0.36500583 -0.84910565 -0.13524865 -0.36219381  1.14855242\n",
      "  -0.27997822 -0.00723248  0.089215   -0.30360515  0.52955851 -0.42394905\n",
      "  -1.52322669  0.01830119  0.84017045  0.46675936 -0.55011006 -0.33550189\n",
      "   0.68761625]]\n"
     ]
    }
   ],
   "source": [
    "# the coef_ variable contains the coeffient of the regression for each variable\n",
    "print(model.coef_)"
   ]
  },
  {
   "cell_type": "code",
   "execution_count": 33,
   "metadata": {},
   "outputs": [
    {
     "name": "stdout",
     "output_type": "stream",
     "text": [
      " 0 age                           -0.0204  low\n",
      " 1 sex                            1.1141   \n",
      " 2 resting_bp                     0.0266  low\n",
      " 3 cholestoral                    0.0039  low\n",
      " 4 fasting_blood_sugar           -0.0221  low\n",
      " 5 max_heart_rate                -0.0274  low\n",
      " 6 exercise_induced_angina        0.3462   \n",
      " 7 st_depr_w_exercise             0.3650   \n",
      " 8 chest_pain_type_1.0           -0.8491   \n",
      " 9 chest_pain_type_2.0           -0.1352  low\n",
      "10 chest_pain_type_3.0           -0.3622   \n",
      "11 chest_pain_type_4.0            1.1486   \n",
      "12 resting_ecg_0.0               -0.2800   \n",
      "13 resting_ecg_1.0               -0.0072  low\n",
      "14 resting_ecg_2.0                0.0892  low\n",
      "15 slope_1.0                     -0.3036   \n",
      "16 slope_2.0                      0.5296   \n",
      "17 slope_3.0                     -0.4239   \n",
      "18 num_blood_vessels_0.0         -1.5232   \n",
      "19 num_blood_vessels_1.0          0.0183  low\n",
      "20 num_blood_vessels_2.0          0.8402   \n",
      "21 num_blood_vessels_3.0          0.4668   \n",
      "22 thal_3.0                      -0.5501   \n",
      "23 thal_6.0                      -0.3355   \n",
      "24 thal_7.0                       0.6876   \n",
      "\n"
     ]
    }
   ],
   "source": [
    "# let's print the coefficient and attribute names together so that we can see which ones are significant\n",
    "# at the same time we can label the attributes that have a \n",
    "# low coefficient (where their absolute value is less than the threshold value)\n",
    "# remember: coefficients can be either positive or negative because their predictive power may be\n",
    "#           positively or negatively correlated with the result\n",
    "\n",
    "threshold = 0.2 # just a guess of what \"low\" is\n",
    "remove_cols = []\n",
    "printstr = ''\n",
    "for i, (col, coef) in enumerate(zip(list(X_train.columns),list(model.coef_[0]))):\n",
    "    if abs(coef) < threshold: remove_cols.append(col)\n",
    "    printstr = printstr + '{0:>2s} {1:30s}{2:s}{3:=0.4f}  {4:s}\\n'.format(str(i), col, \" \" if coef>=0 else \"-\", abs(coef), 'low' if abs(coef) < threshold else ' ')\n",
    "\n",
    "print(printstr)"
   ]
  },
  {
   "cell_type": "code",
   "execution_count": 34,
   "metadata": {},
   "outputs": [
    {
     "name": "stdout",
     "output_type": "stream",
     "text": [
      "['age', 'resting_bp', 'cholestoral', 'fasting_blood_sugar', 'max_heart_rate', 'chest_pain_type_2.0', 'resting_ecg_1.0', 'resting_ecg_2.0', 'num_blood_vessels_1.0']\n"
     ]
    }
   ],
   "source": [
    "print(remove_cols)"
   ]
  },
  {
   "cell_type": "markdown",
   "metadata": {},
   "source": [
    "Before we start removing columns let's first look at some of the non-binary categorical variables to see if there is a benefit of making them binary by thresholding.\n",
    "\n",
    "First let's consider chest_pain\n",
    "\n",
    "There are 4 categories. The first three are negatively correlated and asymptomatic is possitively correlated\n",
    "chest pain type:\n",
    "- Value 1: typical angina\n",
    "- Value 2: atypical angina\n",
    "- Value 3: non-anginal pain\n",
    "- Value 4: asymptomatic\n",
    "\n",
    "Let's combine them into a variable that will be positively correlated: \n",
    "- symptomatic = 1 \n",
    "- asymptomatic = 0 \n"
   ]
  },
  {
   "cell_type": "code",
   "execution_count": 35,
   "metadata": {},
   "outputs": [
    {
     "data": {
      "text/plain": [
       "array([0, 1])"
      ]
     },
     "execution_count": 35,
     "metadata": {},
     "output_type": "execute_result"
    }
   ],
   "source": [
    "# write a function to convert chest_pain_type to a binary categorical\n",
    "def convert_chest_pain(row):\n",
    "    if row.chest_pain_type == 4:\n",
    "        return 0\n",
    "    else:\n",
    "        return 1\n",
    "\n",
    "# use the apply function to perform the function on the dataframe \n",
    "df2.chest_pain_type = df2.apply(convert_chest_pain, axis=1)\n",
    "\n",
    "df2.chest_pain_type.unique()"
   ]
  },
  {
   "cell_type": "code",
   "execution_count": 36,
   "metadata": {},
   "outputs": [
    {
     "data": {
      "text/plain": [
       "<matplotlib.axes._subplots.AxesSubplot at 0x12b327cd0>"
      ]
     },
     "execution_count": 36,
     "metadata": {},
     "output_type": "execute_result"
    },
    {
     "data": {
      "image/png": "[encoded data removed]",
      "text/plain": [
       "<Figure size 432x288 with 1 Axes>"
      ]
     },
     "metadata": {
      "needs_background": "light"
     },
     "output_type": "display_data"
    }
   ],
   "source": [
    "# show a count of the different values for chest_pain_type\n",
    "sns.countplot(y = 'chest_pain_type', data=df2)"
   ]
  },
  {
   "cell_type": "code",
   "execution_count": 38,
   "metadata": {},
   "outputs": [
    {
     "name": "stdout",
     "output_type": "stream",
     "text": [
      " 0 age                           -0.0204  low\n",
      " 1 sex                            1.1141   \n",
      " 2 resting_bp                     0.0266  low\n",
      " 3 cholestoral                    0.0039  low\n",
      " 4 fasting_blood_sugar           -0.0221  low\n",
      " 5 max_heart_rate                -0.0274  low\n",
      " 6 exercise_induced_angina        0.3462   \n",
      " 7 st_depr_w_exercise             0.3650   \n",
      " 8 chest_pain_type_1.0           -0.8491   \n",
      " 9 chest_pain_type_2.0           -0.1352  low\n",
      "10 chest_pain_type_3.0           -0.3622   \n",
      "11 chest_pain_type_4.0            1.1486   \n",
      "12 resting_ecg_0.0               -0.2800   \n",
      "13 resting_ecg_1.0               -0.0072  low\n",
      "14 resting_ecg_2.0                0.0892  low\n",
      "15 slope_1.0                     -0.3036   \n",
      "16 slope_2.0                      0.5296   \n",
      "17 slope_3.0                     -0.4239   \n",
      "18 num_blood_vessels_0.0         -1.5232   \n",
      "19 num_blood_vessels_1.0          0.0183  low\n",
      "20 num_blood_vessels_2.0          0.8402   \n",
      "21 num_blood_vessels_3.0          0.4668   \n",
      "22 thal_3.0                      -0.5501   \n",
      "23 thal_6.0                      -0.3355   \n",
      "24 thal_7.0                       0.6876   \n",
      "\n"
     ]
    }
   ],
   "source": [
    "# display the coefficients again\n",
    "print(printstr)"
   ]
  },
  {
   "cell_type": "markdown",
   "metadata": {},
   "source": [
    "The second obvious non-binary categorical variable to assess is num_blood vessels\n",
    "\n",
    "If a patient had 0 blood_vessels imaged it is negatively correlated with 1 there is low correlation but 2 or higher there is high correlation.\n",
    "\n",
    "Let's combine 1 or more together and leave 0 at zero."
   ]
  },
  {
   "cell_type": "code",
   "execution_count": 39,
   "metadata": {},
   "outputs": [
    {
     "data": {
      "text/plain": [
       "array([1, 0])"
      ]
     },
     "execution_count": 39,
     "metadata": {},
     "output_type": "execute_result"
    }
   ],
   "source": [
    "# write a function to convert num_blood_vessels to a binary categorical\n",
    "def convert_num_blood_vessels(row):\n",
    "    if row.num_blood_vessels == 0:\n",
    "        return 0\n",
    "    else:\n",
    "        return 1\n",
    "\n",
    "# use the apply function to perform the function on the dataframe \n",
    "df2.num_blood_vessels = df2.apply(convert_num_blood_vessels, axis=1)\n",
    "\n",
    "df2.num_blood_vessels.unique()"
   ]
  },
  {
   "cell_type": "code",
   "execution_count": 40,
   "metadata": {},
   "outputs": [
    {
     "data": {
      "text/plain": [
       "<matplotlib.axes._subplots.AxesSubplot at 0x12b37e450>"
      ]
     },
     "execution_count": 40,
     "metadata": {},
     "output_type": "execute_result"
    },
    {
     "data": {
      "image/png": "[encoded data removed]",
      "text/plain": [
       "<Figure size 432x288 with 1 Axes>"
      ]
     },
     "metadata": {
      "needs_background": "light"
     },
     "output_type": "display_data"
    }
   ],
   "source": [
    "# show a count of the different values for num_blood_vessels\n",
    "sns.countplot(y = 'num_blood_vessels', data=df2)"
   ]
  },
  {
   "cell_type": "code",
   "execution_count": 41,
   "metadata": {},
   "outputs": [
    {
     "name": "stdout",
     "output_type": "stream",
     "text": [
      " 0 age                           -0.0204  low\n",
      " 1 sex                            1.1141   \n",
      " 2 resting_bp                     0.0266  low\n",
      " 3 cholestoral                    0.0039  low\n",
      " 4 fasting_blood_sugar           -0.0221  low\n",
      " 5 max_heart_rate                -0.0274  low\n",
      " 6 exercise_induced_angina        0.3462   \n",
      " 7 st_depr_w_exercise             0.3650   \n",
      " 8 chest_pain_type_1.0           -0.8491   \n",
      " 9 chest_pain_type_2.0           -0.1352  low\n",
      "10 chest_pain_type_3.0           -0.3622   \n",
      "11 chest_pain_type_4.0            1.1486   \n",
      "12 resting_ecg_0.0               -0.2800   \n",
      "13 resting_ecg_1.0               -0.0072  low\n",
      "14 resting_ecg_2.0                0.0892  low\n",
      "15 slope_1.0                     -0.3036   \n",
      "16 slope_2.0                      0.5296   \n",
      "17 slope_3.0                     -0.4239   \n",
      "18 num_blood_vessels_0.0         -1.5232   \n",
      "19 num_blood_vessels_1.0          0.0183  low\n",
      "20 num_blood_vessels_2.0          0.8402   \n",
      "21 num_blood_vessels_3.0          0.4668   \n",
      "22 thal_3.0                      -0.5501   \n",
      "23 thal_6.0                      -0.3355   \n",
      "24 thal_7.0                       0.6876   \n",
      "\n"
     ]
    }
   ],
   "source": [
    "# display the coefficients again\n",
    "print(printstr)"
   ]
  },
  {
   "cell_type": "markdown",
   "metadata": {},
   "source": [
    "The next group to tackle is resting ecg\n",
    "\n",
    "restecg: resting electrocardiographic results\n",
    "- Value 0: normal\n",
    "- Value 1: having ST-T wave abnormality (T wave inversions and/or ST elevation or depression of > 0.05 mV)\n",
    "- Value 2: showing probable or definite left ventricular hypertrophy by Estes' criteria\n",
    "\n",
    "Let's combine 1 and 2"
   ]
  },
  {
   "cell_type": "code",
   "execution_count": 42,
   "metadata": {},
   "outputs": [
    {
     "data": {
      "text/plain": [
       "array([1, 0])"
      ]
     },
     "execution_count": 42,
     "metadata": {},
     "output_type": "execute_result"
    }
   ],
   "source": [
    "# write a function to convert num_blood_vessels to a binary categorical\n",
    "def convert_resting_ecg(row):\n",
    "    if row.resting_ecg == 0:\n",
    "        return 0\n",
    "    else:\n",
    "        return 1\n",
    "\n",
    "# use the apply function to perform the function on the dataframe \n",
    "df2.resting_ecg = df2.apply(convert_resting_ecg, axis=1)\n",
    "\n",
    "df2.resting_ecg.unique()"
   ]
  },
  {
   "cell_type": "code",
   "execution_count": 43,
   "metadata": {},
   "outputs": [
    {
     "data": {
      "text/plain": [
       "<matplotlib.axes._subplots.AxesSubplot at 0x12b427bd0>"
      ]
     },
     "execution_count": 43,
     "metadata": {},
     "output_type": "execute_result"
    },
    {
     "data": {
      "image/png": "[encoded data removed]",
      "text/plain": [
       "<Figure size 432x288 with 1 Axes>"
      ]
     },
     "metadata": {
      "needs_background": "light"
     },
     "output_type": "display_data"
    }
   ],
   "source": [
    "# show a count of the different values for resting_ecg\n",
    "sns.countplot(y = 'resting_ecg', data=df2)"
   ]
  },
  {
   "cell_type": "code",
   "execution_count": 44,
   "metadata": {},
   "outputs": [
    {
     "name": "stdout",
     "output_type": "stream",
     "text": [
      " 0 age                           -0.0204  low\n",
      " 1 sex                            1.1141   \n",
      " 2 resting_bp                     0.0266  low\n",
      " 3 cholestoral                    0.0039  low\n",
      " 4 fasting_blood_sugar           -0.0221  low\n",
      " 5 max_heart_rate                -0.0274  low\n",
      " 6 exercise_induced_angina        0.3462   \n",
      " 7 st_depr_w_exercise             0.3650   \n",
      " 8 chest_pain_type_1.0           -0.8491   \n",
      " 9 chest_pain_type_2.0           -0.1352  low\n",
      "10 chest_pain_type_3.0           -0.3622   \n",
      "11 chest_pain_type_4.0            1.1486   \n",
      "12 resting_ecg_0.0               -0.2800   \n",
      "13 resting_ecg_1.0               -0.0072  low\n",
      "14 resting_ecg_2.0                0.0892  low\n",
      "15 slope_1.0                     -0.3036   \n",
      "16 slope_2.0                      0.5296   \n",
      "17 slope_3.0                     -0.4239   \n",
      "18 num_blood_vessels_0.0         -1.5232   \n",
      "19 num_blood_vessels_1.0          0.0183  low\n",
      "20 num_blood_vessels_2.0          0.8402   \n",
      "21 num_blood_vessels_3.0          0.4668   \n",
      "22 thal_3.0                      -0.5501   \n",
      "23 thal_6.0                      -0.3355   \n",
      "24 thal_7.0                       0.6876   \n",
      "\n"
     ]
    }
   ],
   "source": [
    "print(printstr)"
   ]
  },
  {
   "cell_type": "markdown",
   "metadata": {},
   "source": [
    "Finally let's look at thal (whatever that is) and slope.\n",
    "\n",
    "thal: \n",
    "- Value 3: normal\n",
    "- Value 6: fixed defect \n",
    "- Value 7: reversable defect\n",
    "\n",
    "In this case there is no logic that makes sense to combine them so we will leave this one alone.\n",
    "\n",
    "slope: the slope of the peak exercise ST segment\n",
    "- Value 1: upsloping\n",
    "- Value 2: flat\n",
    "- Value 3: downsloping\n",
    "\n",
    "Slope appears to be positively correlated when it is flat and negatively correlated if it is not flat.\n",
    "\n",
    "I am inclined to leave this alone until we run a second regression test with the other values made binary.\n",
    "\n",
    "So now our categorical columns are greatly reduced. We will try again with just the two: slope and thal as non-binary"
   ]
  },
  {
   "cell_type": "code",
   "execution_count": 45,
   "metadata": {},
   "outputs": [],
   "source": [
    "# specify the categorical variables with more than 2 unique values\n",
    "categorical = ['slope','thal' ]"
   ]
  },
  {
   "cell_type": "code",
   "execution_count": 46,
   "metadata": {},
   "outputs": [],
   "source": [
    "# get dummies creates new columns for non-binary categorical variables \n",
    "data3 = pd.get_dummies(df2, columns =categorical)"
   ]
  },
  {
   "cell_type": "code",
   "execution_count": 47,
   "metadata": {},
   "outputs": [
    {
     "name": "stdout",
     "output_type": "stream",
     "text": [
      "<class 'pandas.core.frame.DataFrame'>\n",
      "Int64Index: 296 entries, 0 to 300\n",
      "Data columns (total 18 columns):\n",
      "age                        296 non-null float64\n",
      "sex                        296 non-null float64\n",
      "chest_pain_type            296 non-null int64\n",
      "resting_bp                 296 non-null float64\n",
      "cholestoral                296 non-null float64\n",
      "fasting_blood_sugar        296 non-null float64\n",
      "resting_ecg                296 non-null int64\n",
      "max_heart_rate             296 non-null float64\n",
      "exercise_induced_angina    296 non-null float64\n",
      "st_depr_w_exercise         296 non-null float64\n",
      "num_blood_vessels          296 non-null int64\n",
      "has_disease                296 non-null int64\n",
      "slope_1.0                  296 non-null uint8\n",
      "slope_2.0                  296 non-null uint8\n",
      "slope_3.0                  296 non-null uint8\n",
      "thal_3.0                   296 non-null uint8\n",
      "thal_6.0                   296 non-null uint8\n",
      "thal_7.0                   296 non-null uint8\n",
      "dtypes: float64(8), int64(4), uint8(6)\n",
      "memory usage: 41.8 KB\n"
     ]
    }
   ],
   "source": [
    "data3.info()"
   ]
  },
  {
   "cell_type": "markdown",
   "metadata": {},
   "source": [
    "We now have 17 variables instead of 25\n",
    "\n",
    "Let's run our regression test again to see if the reduction in variables to just those with coefficients greater than 0.2 has improved our accuracy."
   ]
  },
  {
   "cell_type": "code",
   "execution_count": 48,
   "metadata": {},
   "outputs": [
    {
     "name": "stdout",
     "output_type": "stream",
     "text": [
      "['age', 'sex', 'chest_pain_type', 'resting_bp', 'cholestoral', 'fasting_blood_sugar', 'resting_ecg', 'max_heart_rate', 'exercise_induced_angina', 'st_depr_w_exercise', 'num_blood_vessels', 'has_disease', 'slope_1.0', 'slope_2.0', 'slope_3.0', 'thal_3.0', 'thal_6.0', 'thal_7.0']\n"
     ]
    }
   ],
   "source": [
    "# we need to put the has_disease column first so that it is easy to separate from the other variables\n",
    "# print the current columns as a list \n",
    "print(list(data3.columns.values))"
   ]
  },
  {
   "cell_type": "code",
   "execution_count": 49,
   "metadata": {},
   "outputs": [
    {
     "data": {
      "text/html": [
       "<div>\n",
       "<style scoped>\n",
       "    .dataframe tbody tr th:only-of-type {\n",
       "        vertical-align: middle;\n",
       "    }\n",
       "\n",
       "    .dataframe tbody tr th {\n",
       "        vertical-align: top;\n",
       "    }\n",
       "\n",
       "    .dataframe thead th {\n",
       "        text-align: right;\n",
       "    }\n",
       "</style>\n",
       "<table border=\"1\" class=\"dataframe\">\n",
       "  <thead>\n",
       "    <tr style=\"text-align: right;\">\n",
       "      <th></th>\n",
       "      <th>has_disease</th>\n",
       "      <th>age</th>\n",
       "      <th>sex</th>\n",
       "      <th>chest_pain_type</th>\n",
       "      <th>resting_bp</th>\n",
       "      <th>cholestoral</th>\n",
       "      <th>fasting_blood_sugar</th>\n",
       "      <th>resting_ecg</th>\n",
       "      <th>max_heart_rate</th>\n",
       "      <th>exercise_induced_angina</th>\n",
       "      <th>st_depr_w_exercise</th>\n",
       "      <th>num_blood_vessels</th>\n",
       "      <th>slope_1.0</th>\n",
       "      <th>slope_2.0</th>\n",
       "      <th>slope_3.0</th>\n",
       "      <th>thal_3.0</th>\n",
       "      <th>thal_6.0</th>\n",
       "      <th>thal_7.0</th>\n",
       "    </tr>\n",
       "  </thead>\n",
       "  <tbody>\n",
       "    <tr>\n",
       "      <th>0</th>\n",
       "      <td>1</td>\n",
       "      <td>67.0</td>\n",
       "      <td>1.0</td>\n",
       "      <td>0</td>\n",
       "      <td>160.0</td>\n",
       "      <td>286.0</td>\n",
       "      <td>0.0</td>\n",
       "      <td>1</td>\n",
       "      <td>108.0</td>\n",
       "      <td>1.0</td>\n",
       "      <td>1.5</td>\n",
       "      <td>1</td>\n",
       "      <td>0</td>\n",
       "      <td>1</td>\n",
       "      <td>0</td>\n",
       "      <td>1</td>\n",
       "      <td>0</td>\n",
       "      <td>0</td>\n",
       "    </tr>\n",
       "    <tr>\n",
       "      <th>1</th>\n",
       "      <td>1</td>\n",
       "      <td>67.0</td>\n",
       "      <td>1.0</td>\n",
       "      <td>0</td>\n",
       "      <td>120.0</td>\n",
       "      <td>229.0</td>\n",
       "      <td>0.0</td>\n",
       "      <td>1</td>\n",
       "      <td>129.0</td>\n",
       "      <td>1.0</td>\n",
       "      <td>2.6</td>\n",
       "      <td>1</td>\n",
       "      <td>0</td>\n",
       "      <td>1</td>\n",
       "      <td>0</td>\n",
       "      <td>0</td>\n",
       "      <td>0</td>\n",
       "      <td>1</td>\n",
       "    </tr>\n",
       "    <tr>\n",
       "      <th>2</th>\n",
       "      <td>0</td>\n",
       "      <td>37.0</td>\n",
       "      <td>1.0</td>\n",
       "      <td>1</td>\n",
       "      <td>130.0</td>\n",
       "      <td>250.0</td>\n",
       "      <td>0.0</td>\n",
       "      <td>0</td>\n",
       "      <td>187.0</td>\n",
       "      <td>0.0</td>\n",
       "      <td>3.5</td>\n",
       "      <td>0</td>\n",
       "      <td>0</td>\n",
       "      <td>0</td>\n",
       "      <td>1</td>\n",
       "      <td>1</td>\n",
       "      <td>0</td>\n",
       "      <td>0</td>\n",
       "    </tr>\n",
       "    <tr>\n",
       "      <th>3</th>\n",
       "      <td>0</td>\n",
       "      <td>41.0</td>\n",
       "      <td>0.0</td>\n",
       "      <td>1</td>\n",
       "      <td>130.0</td>\n",
       "      <td>204.0</td>\n",
       "      <td>0.0</td>\n",
       "      <td>1</td>\n",
       "      <td>172.0</td>\n",
       "      <td>0.0</td>\n",
       "      <td>1.4</td>\n",
       "      <td>0</td>\n",
       "      <td>1</td>\n",
       "      <td>0</td>\n",
       "      <td>0</td>\n",
       "      <td>1</td>\n",
       "      <td>0</td>\n",
       "      <td>0</td>\n",
       "    </tr>\n",
       "    <tr>\n",
       "      <th>4</th>\n",
       "      <td>0</td>\n",
       "      <td>56.0</td>\n",
       "      <td>1.0</td>\n",
       "      <td>1</td>\n",
       "      <td>120.0</td>\n",
       "      <td>236.0</td>\n",
       "      <td>0.0</td>\n",
       "      <td>0</td>\n",
       "      <td>178.0</td>\n",
       "      <td>0.0</td>\n",
       "      <td>0.8</td>\n",
       "      <td>0</td>\n",
       "      <td>1</td>\n",
       "      <td>0</td>\n",
       "      <td>0</td>\n",
       "      <td>1</td>\n",
       "      <td>0</td>\n",
       "      <td>0</td>\n",
       "    </tr>\n",
       "  </tbody>\n",
       "</table>\n",
       "</div>"
      ],
      "text/plain": [
       "   has_disease   age  sex  chest_pain_type  resting_bp  cholestoral  \\\n",
       "0            1  67.0  1.0                0       160.0        286.0   \n",
       "1            1  67.0  1.0                0       120.0        229.0   \n",
       "2            0  37.0  1.0                1       130.0        250.0   \n",
       "3            0  41.0  0.0                1       130.0        204.0   \n",
       "4            0  56.0  1.0                1       120.0        236.0   \n",
       "\n",
       "   fasting_blood_sugar  resting_ecg  max_heart_rate  exercise_induced_angina  \\\n",
       "0                  0.0            1           108.0                      1.0   \n",
       "1                  0.0            1           129.0                      1.0   \n",
       "2                  0.0            0           187.0                      0.0   \n",
       "3                  0.0            1           172.0                      0.0   \n",
       "4                  0.0            0           178.0                      0.0   \n",
       "\n",
       "   st_depr_w_exercise  num_blood_vessels  slope_1.0  slope_2.0  slope_3.0  \\\n",
       "0                 1.5                  1          0          1          0   \n",
       "1                 2.6                  1          0          1          0   \n",
       "2                 3.5                  0          0          0          1   \n",
       "3                 1.4                  0          1          0          0   \n",
       "4                 0.8                  0          1          0          0   \n",
       "\n",
       "   thal_3.0  thal_6.0  thal_7.0  \n",
       "0         1         0         0  \n",
       "1         0         0         1  \n",
       "2         1         0         0  \n",
       "3         1         0         0  \n",
       "4         1         0         0  "
      ]
     },
     "execution_count": 49,
     "metadata": {},
     "output_type": "execute_result"
    }
   ],
   "source": [
    "# copy the columns list and rearrange so that has_disease is first then rearrage using the selection below\n",
    "\n",
    "cols = ['has_disease', 'age', 'sex', 'chest_pain_type', 'resting_bp', 'cholestoral', 'fasting_blood_sugar', 'resting_ecg', 'max_heart_rate', 'exercise_induced_angina', 'st_depr_w_exercise', 'num_blood_vessels', 'slope_1.0', 'slope_2.0', 'slope_3.0', 'thal_3.0', 'thal_6.0', 'thal_7.0']\n",
    "\n",
    "data3 = data3[cols]\n",
    "\n",
    "data3.head()"
   ]
  },
  {
   "cell_type": "code",
   "execution_count": 50,
   "metadata": {},
   "outputs": [
    {
     "name": "stdout",
     "output_type": "stream",
     "text": [
      "The training dataset has dimensions: (222, 17) and the test dataset has dimensions: (74, 17)\n"
     ]
    }
   ],
   "source": [
    "# split the data into X and y values where y is the first column and X is everything else \n",
    "X = data3.iloc[:,1:]\n",
    "y = data3.iloc[:,0]\n",
    "\n",
    "# split the data using the default ratio of 75% training, 25% test\n",
    "X_train, X_test, y_train, y_test = train_test_split(X, y, random_state=0)\n",
    "#X_train, X_test, y_train, y_test = train_test_split(X, y)\n",
    "\n",
    "# print the shapes of the two datasets\n",
    "\n",
    "print('The training dataset has dimensions: {0:s} and the test dataset has dimensions: {1:s}'.format(str(X_train.shape),str(X_test.shape)))"
   ]
  },
  {
   "cell_type": "code",
   "execution_count": 51,
   "metadata": {},
   "outputs": [
    {
     "name": "stderr",
     "output_type": "stream",
     "text": [
      "/Users/sh/Dropbox/venvs/venv_ds/lib/python3.7/site-packages/sklearn/linear_model/logistic.py:432: FutureWarning: Default solver will be changed to 'lbfgs' in 0.22. Specify a solver to silence this warning.\n",
      "  FutureWarning)\n"
     ]
    }
   ],
   "source": [
    "# Perform a fit to the training data\n",
    "model2 = classifier.fit(X_train, y_train)\n"
   ]
  },
  {
   "cell_type": "code",
   "execution_count": 52,
   "metadata": {},
   "outputs": [
    {
     "name": "stdout",
     "output_type": "stream",
     "text": [
      "[[38  3]\n",
      " [ 7 26]]\n"
     ]
    }
   ],
   "source": [
    "#The confusion_matrix() function will calculate a confusion matrix and return the result as an array.\n",
    "# perform a prediction for each X in the test set\n",
    "y_pred = classifier.predict(X_test)\n",
    "\n",
    "# import the confusion_matrix function to analyze the results\n",
    "from sklearn.metrics import confusion_matrix\n",
    "confusion_matrix = confusion_matrix(y_test, y_pred)\n",
    "print(confusion_matrix)\n"
   ]
  },
  {
   "cell_type": "code",
   "execution_count": 53,
   "metadata": {},
   "outputs": [
    {
     "name": "stdout",
     "output_type": "stream",
     "text": [
      "Accuracy of logistic regression classifier on training set: 0.87\n",
      "Accuracy of logistic regression classifier on test set: 0.86\n"
     ]
    }
   ],
   "source": [
    "#Accuracy\n",
    "print('Accuracy of logistic regression classifier on training set: {:.2f}'.format(classifier.score(X_train, y_train)))\n",
    "print('Accuracy of logistic regression classifier on test set: {:.2f}'.format(classifier.score(X_test, y_test)))"
   ]
  },
  {
   "cell_type": "markdown",
   "metadata": {},
   "source": [
    "Again, let's look at the coefficients to look for predictors with low coefficients."
   ]
  },
  {
   "cell_type": "code",
   "execution_count": 55,
   "metadata": {},
   "outputs": [
    {
     "name": "stdout",
     "output_type": "stream",
     "text": [
      " 0 age                           -0.0185  low\n",
      " 1 sex                            0.9620   \n",
      " 2 chest_pain_type               -1.5587   \n",
      " 3 resting_bp                     0.0234  low\n",
      " 4 cholestoral                    0.0037  low\n",
      " 5 fasting_blood_sugar            0.0106  low\n",
      " 6 resting_ecg                    0.2561   \n",
      " 7 max_heart_rate                -0.0267  low\n",
      " 8 exercise_induced_angina        0.3150   \n",
      " 9 st_depr_w_exercise             0.3665   \n",
      "10 num_blood_vessels              1.6975   \n",
      "11 slope_1.0                     -0.2939   \n",
      "12 slope_2.0                      0.4653   \n",
      "13 slope_3.0                     -0.4635   \n",
      "14 thal_3.0                      -0.6125   \n",
      "15 thal_6.0                      -0.2969   \n",
      "16 thal_7.0                       0.6172   \n",
      "\n"
     ]
    }
   ],
   "source": [
    "# let's print the coefficient and attribute names together\n",
    "\n",
    "threshold = 0.2\n",
    "remove_cols = []\n",
    "printstr2 = ''\n",
    "for i, (col, coef) in enumerate(zip(list(X_train.columns),list(model2.coef_[0]))):\n",
    "    if abs(coef) < threshold: remove_cols.append(col)\n",
    "    printstr2 = printstr2 + '{0:>2s} {1:30s}{2:s}{3:=0.4f}  {4:s}\\n'.format(str(i), col, \" \" if coef>=0 else \"-\", abs(coef), 'low' if abs(coef) < threshold else ' ')\n",
    "\n",
    "print(printstr2)"
   ]
  },
  {
   "cell_type": "code",
   "execution_count": 56,
   "metadata": {},
   "outputs": [
    {
     "data": {
      "text/plain": [
       "['age', 'resting_bp', 'cholestoral', 'fasting_blood_sugar', 'max_heart_rate']"
      ]
     },
     "execution_count": 56,
     "metadata": {},
     "output_type": "execute_result"
    }
   ],
   "source": [
    "remove_cols"
   ]
  },
  {
   "cell_type": "markdown",
   "metadata": {},
   "source": [
    "What we see is that combining our non-binary categorical variables has helped a little bit in improving the accuracy of our model. \n",
    "\n",
    "Now we can begin the process of removing the rest of the insignificant variables. \n",
    "\n",
    "Let's drop these columns."
   ]
  },
  {
   "cell_type": "code",
   "execution_count": 57,
   "metadata": {},
   "outputs": [
    {
     "name": "stdout",
     "output_type": "stream",
     "text": [
      "<class 'pandas.core.frame.DataFrame'>\n",
      "Int64Index: 296 entries, 0 to 300\n",
      "Data columns (total 13 columns):\n",
      "has_disease                296 non-null int64\n",
      "sex                        296 non-null float64\n",
      "chest_pain_type            296 non-null int64\n",
      "resting_ecg                296 non-null int64\n",
      "exercise_induced_angina    296 non-null float64\n",
      "st_depr_w_exercise         296 non-null float64\n",
      "num_blood_vessels          296 non-null int64\n",
      "slope_1.0                  296 non-null uint8\n",
      "slope_2.0                  296 non-null uint8\n",
      "slope_3.0                  296 non-null uint8\n",
      "thal_3.0                   296 non-null uint8\n",
      "thal_6.0                   296 non-null uint8\n",
      "thal_7.0                   296 non-null uint8\n",
      "dtypes: float64(3), int64(4), uint8(6)\n",
      "memory usage: 30.2 KB\n"
     ]
    }
   ],
   "source": [
    "# drop the columns in the remove_cols list.\n",
    "data4 = data3.drop(columns=remove_cols)\n",
    "\n",
    "data4.info()"
   ]
  },
  {
   "cell_type": "markdown",
   "metadata": {},
   "source": [
    "We now have 12 predictor variables. Let's repeat our regression test on these"
   ]
  },
  {
   "cell_type": "code",
   "execution_count": 58,
   "metadata": {},
   "outputs": [
    {
     "name": "stdout",
     "output_type": "stream",
     "text": [
      "The training dataset has dimensions: (222, 12) and the test dataset has dimensions: (74, 12)\n"
     ]
    }
   ],
   "source": [
    "# split the data into X and y values where y is the first column and X is everything else \n",
    "X = data4.iloc[:,1:]\n",
    "y = data4.iloc[:,0]\n",
    "\n",
    "# split the data using the default ratio of 75% training, 25% test\n",
    "X_train, X_test, y_train, y_test = train_test_split(X, y, random_state=0)\n",
    "#X_train, X_test, y_train, y_test = train_test_split(X, y)\n",
    "\n",
    "# print the shapes of the two datasets\n",
    "\n",
    "print('The training dataset has dimensions: {0:s} and the test dataset has dimensions: {1:s}'.format(str(X_train.shape),str(X_test.shape)))"
   ]
  },
  {
   "cell_type": "code",
   "execution_count": 59,
   "metadata": {},
   "outputs": [
    {
     "name": "stderr",
     "output_type": "stream",
     "text": [
      "/Users/sh/Dropbox/venvs/venv_ds/lib/python3.7/site-packages/sklearn/linear_model/logistic.py:432: FutureWarning: Default solver will be changed to 'lbfgs' in 0.22. Specify a solver to silence this warning.\n",
      "  FutureWarning)\n"
     ]
    }
   ],
   "source": [
    "# Perform a fit to the training data\n",
    "model3 = classifier.fit(X_train, y_train)\n"
   ]
  },
  {
   "cell_type": "code",
   "execution_count": 60,
   "metadata": {},
   "outputs": [
    {
     "name": "stdout",
     "output_type": "stream",
     "text": [
      "[[38  3]\n",
      " [ 5 28]]\n"
     ]
    }
   ],
   "source": [
    "#The confusion_matrix() function will calculate a confusion matrix and return the result as an array.\n",
    "# perform a prediction for each X in the test set\n",
    "y_pred = classifier.predict(X_test)\n",
    "\n",
    "# import the confusion_matrix function to analyze the results\n",
    "from sklearn.metrics import confusion_matrix\n",
    "confusion_matrix = confusion_matrix(y_test, y_pred)\n",
    "print(confusion_matrix)"
   ]
  },
  {
   "cell_type": "code",
   "execution_count": 61,
   "metadata": {},
   "outputs": [
    {
     "name": "stdout",
     "output_type": "stream",
     "text": [
      "Accuracy of logistic regression classifier on training set: 0.86\n",
      "Accuracy of logistic regression classifier on test set: 0.89\n"
     ]
    }
   ],
   "source": [
    "#Accuracy\n",
    "print('Accuracy of logistic regression classifier on training set: {:.2f}'.format(classifier.score(X_train, y_train)))\n",
    "print('Accuracy of logistic regression classifier on test set: {:.2f}'.format(classifier.score(X_test, y_test)))"
   ]
  },
  {
   "cell_type": "code",
   "execution_count": 62,
   "metadata": {},
   "outputs": [
    {
     "name": "stdout",
     "output_type": "stream",
     "text": [
      " 0 sex                            0.6670   \n",
      " 1 chest_pain_type               -1.5921   \n",
      " 2 resting_ecg                    0.3738  low\n",
      " 3 exercise_induced_angina        0.4769  low\n",
      " 4 st_depr_w_exercise             0.4482  low\n",
      " 5 num_blood_vessels              1.6726   \n",
      " 6 slope_1.0                     -0.6137   \n",
      " 7 slope_2.0                      0.3521  low\n",
      " 8 slope_3.0                     -0.5356   \n",
      " 9 thal_3.0                      -0.9147   \n",
      "10 thal_6.0                      -0.3264  low\n",
      "11 thal_7.0                       0.4439  low\n",
      "\n"
     ]
    }
   ],
   "source": [
    "# let's print the coefficient and attribute names together\n",
    "\n",
    "threshold = 0.5\n",
    "remove_cols = []\n",
    "printstr3 = ''\n",
    "for i, (col, coef) in enumerate(zip(list(X_train.columns),list(model2.coef_[0]))):\n",
    "    if abs(coef) < threshold: remove_cols.append(col)\n",
    "    printstr3 = printstr3 + '{0:>2s} {1:30s}{2:s}{3:=0.4f}  {4:s}\\n'.format(str(i), col, \" \" if coef>=0 else \"-\", abs(coef), 'low' if abs(coef) < threshold else ' ')\n",
    "\n",
    "print(printstr3)"
   ]
  },
  {
   "cell_type": "code",
   "execution_count": 63,
   "metadata": {},
   "outputs": [
    {
     "name": "stdout",
     "output_type": "stream",
     "text": [
      "['resting_ecg', 'exercise_induced_angina', 'st_depr_w_exercise', 'slope_2.0', 'thal_6.0', 'thal_7.0']\n"
     ]
    }
   ],
   "source": [
    "print(remove_cols)"
   ]
  },
  {
   "cell_type": "code",
   "execution_count": null,
   "metadata": {},
   "outputs": [],
   "source": []
  },
  {
   "cell_type": "code",
   "execution_count": 64,
   "metadata": {},
   "outputs": [
    {
     "name": "stdout",
     "output_type": "stream",
     "text": [
      "<class 'pandas.core.frame.DataFrame'>\n",
      "Int64Index: 296 entries, 0 to 300\n",
      "Data columns (total 7 columns):\n",
      "has_disease          296 non-null int64\n",
      "sex                  296 non-null float64\n",
      "chest_pain_type      296 non-null int64\n",
      "num_blood_vessels    296 non-null int64\n",
      "slope_1.0            296 non-null uint8\n",
      "slope_3.0            296 non-null uint8\n",
      "thal_3.0             296 non-null uint8\n",
      "dtypes: float64(1), int64(3), uint8(3)\n",
      "memory usage: 22.4 KB\n"
     ]
    }
   ],
   "source": [
    "data5 = data4.drop(columns=remove_cols)\n",
    "\n",
    "data5.info()"
   ]
  },
  {
   "cell_type": "code",
   "execution_count": 65,
   "metadata": {},
   "outputs": [
    {
     "name": "stdout",
     "output_type": "stream",
     "text": [
      "The training dataset has dimensions: (222, 6) and the test dataset has dimensions: (74, 6)\n"
     ]
    }
   ],
   "source": [
    "# split the data into X and y values where y is the first column and X is everything else \n",
    "X = data5.iloc[:,1:]\n",
    "y = data5.iloc[:,0]\n",
    "\n",
    "# split the data using the default ratio of 75% training, 25% test\n",
    "X_train, X_test, y_train, y_test = train_test_split(X, y, random_state=0)\n",
    "#X_train, X_test, y_train, y_test = train_test_split(X, y)\n",
    "\n",
    "# print the shapes of the two datasets\n",
    "\n",
    "print('The training dataset has dimensions: {0:s} and the test dataset has dimensions: {1:s}'.format(str(X_train.shape),str(X_test.shape)))"
   ]
  },
  {
   "cell_type": "code",
   "execution_count": 66,
   "metadata": {},
   "outputs": [
    {
     "name": "stderr",
     "output_type": "stream",
     "text": [
      "/Users/sh/Dropbox/venvs/venv_ds/lib/python3.7/site-packages/sklearn/linear_model/logistic.py:432: FutureWarning: Default solver will be changed to 'lbfgs' in 0.22. Specify a solver to silence this warning.\n",
      "  FutureWarning)\n"
     ]
    }
   ],
   "source": [
    "# Perform a fit to the training data\n",
    "model4 = classifier.fit(X_train, y_train)\n"
   ]
  },
  {
   "cell_type": "code",
   "execution_count": 67,
   "metadata": {},
   "outputs": [
    {
     "name": "stdout",
     "output_type": "stream",
     "text": [
      "[[37  4]\n",
      " [ 6 27]]\n"
     ]
    }
   ],
   "source": [
    "#The confusion_matrix() function will calculate a confusion matrix and return the result as an array.\n",
    "# perform a prediction for each X in the test set\n",
    "y_pred = classifier.predict(X_test)\n",
    "\n",
    "# import the confusion_matrix function to analyze the results\n",
    "from sklearn.metrics import confusion_matrix\n",
    "confusion_matrix = confusion_matrix(y_test, y_pred)\n",
    "print(confusion_matrix)"
   ]
  },
  {
   "cell_type": "code",
   "execution_count": 68,
   "metadata": {},
   "outputs": [
    {
     "name": "stdout",
     "output_type": "stream",
     "text": [
      "Accuracy of logistic regression classifier on training set: 0.84\n",
      "Accuracy of logistic regression classifier on test set: 0.86\n"
     ]
    }
   ],
   "source": [
    "#Accuracy\n",
    "print('Accuracy of logistic regression classifier on training set: {:.2f}'.format(classifier.score(X_train, y_train)))\n",
    "print('Accuracy of logistic regression classifier on test set: {:.2f}'.format(classifier.score(X_test, y_test)))"
   ]
  },
  {
   "cell_type": "code",
   "execution_count": null,
   "metadata": {},
   "outputs": [],
   "source": []
  },
  {
   "cell_type": "code",
   "execution_count": null,
   "metadata": {},
   "outputs": [],
   "source": []
  }
 ],
 "metadata": {
  "kernelspec": {
   "display_name": "AI",
   "language": "python",
   "name": "ai"
  },
  "language_info": {
   "codemirror_mode": {
    "name": "ipython",
    "version": 3
   },
   "file_extension": ".py",
   "mimetype": "text/x-python",
   "name": "python",
   "nbconvert_exporter": "python",
   "pygments_lexer": "ipython3",
   "version": "3.6.2"
  }
 },
 "nbformat": 4,
 "nbformat_minor": 2
}
