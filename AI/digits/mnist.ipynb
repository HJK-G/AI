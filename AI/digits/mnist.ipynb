{
 "cells": [
  {
   "cell_type": "code",
   "execution_count": 1,
   "metadata": {
    "scrolled": false
   },
   "outputs": [
    {
     "name": "stdout",
     "output_type": "stream",
     "text": [
      "/bin/sh: wget: command not found\n",
      "/bin/sh: wget: command not found\n",
      "/bin/sh: wget: command not found\n",
      "/bin/sh: wget: command not found\n"
     ]
    }
   ],
   "source": [
    "# get the mnist datasets\n",
    "import os\n",
    "if False:\n",
    "    !wget http://yann.lecun.com/exdb/mnist/train-images-idx3-ubyte.gz\n",
    "    !wget http://yann.lecun.com/exdb/mnist/train-labels-idx1-ubyte.gz\n",
    "    !wget http://yann.lecun.com/exdb/mnist/t10k-images-idx3-ubyte.gz\n",
    "    !wget http://yann.lecun.com/exdb/mnist/t10k-labels-idx1-ubyte.gz\n"
   ]
  },
  {
   "cell_type": "markdown",
   "metadata": {},
   "source": [
    "FILE FORMATS FOR THE MNIST DATABASE\n",
    "The data is stored in a very simple file format designed for storing vectors and multidimensional matrices. General info on this format is given at the end of this page, but you don't need to read that to use the data files.\n",
    "All the integers in the files are stored in the MSB first (high endian) format used by most non-Intel processors. Users of Intel processors and other low-endian machines must flip the bytes of the header.\n",
    "\n",
    "There are 4 files:\n",
    "\n",
    "train-images-idx3-ubyte: training set images\n",
    "train-labels-idx1-ubyte: training set labels\n",
    "t10k-images-idx3-ubyte:  test set images\n",
    "t10k-labels-idx1-ubyte:  test set labels\n",
    "\n",
    "The training set contains 60000 examples, and the test set 10000 examples.\n",
    "\n",
    "The first 5000 examples of the test set are taken from the original NIST training set. The last 5000 are taken from the original NIST test set. The first 5000 are cleaner and easier than the last 5000.\n",
    "\n",
    "TRAINING SET LABEL FILE (train-labels-idx1-ubyte):\n",
    "[offset] [type]          [value]          [description]\n",
    "0000     32 bit integer  0x00000801(2049) magic number (MSB first)\n",
    "0004     32 bit integer  60000            number of items\n",
    "0008     unsigned byte   ??               label\n",
    "0009     unsigned byte   ??               label\n",
    "........\n",
    "xxxx     unsigned byte   ??               label\n",
    "The labels values are 0 to 9.\n",
    "\n",
    "TRAINING SET IMAGE FILE (train-images-idx3-ubyte):\n",
    "[offset] [type]          [value]          [description]\n",
    "0000     32 bit integer  0x00000803(2051) magic number\n",
    "0004     32 bit integer  60000            number of images\n",
    "0008     32 bit integer  28               number of rows\n",
    "0012     32 bit integer  28               number of columns\n",
    "0016     unsigned byte   ??               pixel\n",
    "0017     unsigned byte   ??               pixel\n",
    "........\n",
    "xxxx     unsigned byte   ??               pixel\n",
    "Pixels are organized row-wise. Pixel values are 0 to 255. 0 means background (white), 255 means foreground (black).\n",
    "\n",
    "TEST SET LABEL FILE (t10k-labels-idx1-ubyte):\n",
    "[offset] [type]          [value]          [description]\n",
    "0000     32 bit integer  0x00000801(2049) magic number (MSB first)\n",
    "0004     32 bit integer  10000            number of items\n",
    "0008     unsigned byte   ??               label\n",
    "0009     unsigned byte   ??               label\n",
    "........\n",
    "xxxx     unsigned byte   ??               label\n",
    "The labels values are 0 to 9.\n",
    "\n",
    "TEST SET IMAGE FILE (t10k-images-idx3-ubyte):\n",
    "[offset] [type]          [value]          [description]\n",
    "0000     32 bit integer  0x00000803(2051) magic number\n",
    "0004     32 bit integer  10000            number of images\n",
    "0008     32 bit integer  28               number of rows\n",
    "0012     32 bit integer  28               number of columns\n",
    "0016     unsigned byte   ??               pixel\n",
    "0017     unsigned byte   ??               pixel\n",
    "........\n",
    "xxxx     unsigned byte   ??               pixel\n",
    "Pixels are organized row-wise. Pixel values are 0 to 255. 0 means background (white), 255 means foreground (black)."
   ]
  },
  {
   "cell_type": "code",
   "execution_count": 2,
   "metadata": {},
   "outputs": [
    {
     "name": "stdout",
     "output_type": "stream",
     "text": [
      "Digits.ipynb            t10k-images-idx3-ubyte  train-images-idx3-ubyte\r\n",
      "mnist.ipynb             t10k-labels-idx1-ubyte  train-labels-idx1-ubyte\r\n"
     ]
    }
   ],
   "source": [
    "!ls"
   ]
  },
  {
   "cell_type": "code",
   "execution_count": 6,
   "metadata": {},
   "outputs": [],
   "source": [
    "f1 = 'train-images-idx3-ubyte'\n",
    "f2 = 'train-labels-idx1-ubyte'\n",
    "f3 = 't10k-images-idx3-ubyte'\n",
    "f4 = 't10k-labels-idx1-ubyte'"
   ]
  },
  {
   "cell_type": "code",
   "execution_count": 20,
   "metadata": {},
   "outputs": [],
   "source": [
    "import numpy as np\n",
    "\n",
    "def int32_from_file(filename, n_header = 0):\n",
    "    with open(filename, \"rb\") as f:\n",
    "        _ = f.read(n_header)\n",
    "        while True:\n",
    "            byte = f.read(4)\n",
    "            if not byte:\n",
    "                break\n",
    "            yield(int.from_bytes(byte, byteorder='big'))\n",
    "\n",
    "def int8_from_file(filename, n_header = 0):\n",
    "    with open(filename, \"rb\") as f:\n",
    "        _ = f.read(n_header)\n",
    "        while True:\n",
    "            byte = f.read(1)\n",
    "            if not byte:\n",
    "                break\n",
    "            yield(int.from_bytes(byte, byteorder='big'))\n",
    "\n",
    "def image_from_file(filename, n, m, n_header):\n",
    "    with open(filename, \"rb\") as f:\n",
    "        _ = f.read(n_header)\n",
    "        while True:\n",
    "            byte = f.read(n*m)\n",
    "            if not byte:\n",
    "                break\n",
    "            ints = np.array([byte[i] for i in range(n*m)], np.uint8)\n",
    "            yield ints\n"
   ]
  },
  {
   "cell_type": "code",
   "execution_count": 21,
   "metadata": {},
   "outputs": [
    {
     "name": "stdout",
     "output_type": "stream",
     "text": [
      "2051 60000 28 28\n"
     ]
    }
   ],
   "source": [
    "b1 = int32_from_file(f1)\n",
    "magic = b1.__next__()\n",
    "n_images = b1.__next__()\n",
    "rows = b1.__next__()\n",
    "cols = b1.__next__()\n",
    "\n",
    "print(magic, n_images, rows, cols)"
   ]
  },
  {
   "cell_type": "code",
   "execution_count": 22,
   "metadata": {},
   "outputs": [
    {
     "name": "stdout",
     "output_type": "stream",
     "text": [
      "processing image  0\n",
      "processing image  10000\n",
      "processing image  20000\n",
      "processing image  30000\n",
      "processing image  40000\n",
      "processing image  50000\n"
     ]
    }
   ],
   "source": [
    "b2 = image_from_file(f1, rows, cols, n_header=16)\n",
    "train_images = []\n",
    "for i in range(n_images):\n",
    "    train_images.append(b2.__next__())\n",
    "    if i % 10000 == 0:\n",
    "        print('processing image ', str(i))"
   ]
  },
  {
   "cell_type": "code",
   "execution_count": 23,
   "metadata": {},
   "outputs": [],
   "source": [
    "# get the training labels.\n",
    "\n",
    "b3 = int32_from_file(f2)\n",
    "magic = b3.__next__()\n",
    "n_labels = b3.__next__()\n",
    "\n",
    "train_labels = []\n",
    "b4 = int8_from_file(f2, 8)\n",
    "for i in range(n_labels):\n",
    "    train_labels.append(b4.__next__())\n",
    "    "
   ]
  },
  {
   "cell_type": "code",
   "execution_count": 24,
   "metadata": {},
   "outputs": [
    {
     "data": {
      "text/plain": [
       "[5, 0, 4, 1, 9, 2, 1, 3, 1, 4]"
      ]
     },
     "execution_count": 24,
     "metadata": {},
     "output_type": "execute_result"
    }
   ],
   "source": [
    "train_labels[0:10]"
   ]
  },
  {
   "cell_type": "code",
   "execution_count": 25,
   "metadata": {},
   "outputs": [
    {
     "name": "stdout",
     "output_type": "stream",
     "text": [
      "2051 10000 28 28\n",
      "processing image  0\n",
      "processing image  1000\n",
      "processing image  2000\n",
      "processing image  3000\n",
      "processing image  4000\n",
      "processing image  5000\n",
      "processing image  6000\n",
      "processing image  7000\n",
      "processing image  8000\n",
      "processing image  9000\n"
     ]
    }
   ],
   "source": [
    "b5 = int32_from_file(f3)\n",
    "magic = b5.__next__()\n",
    "n_images = b5.__next__()\n",
    "rows = b5.__next__()\n",
    "cols = b5.__next__()\n",
    "\n",
    "print(magic, n_images, rows, cols)\n",
    "\n",
    "b6 = image_from_file(f3, rows, cols, n_header=16)\n",
    "test_images = []\n",
    "for i in range(n_images):\n",
    "    test_images.append(b6.__next__())\n",
    "    if i % 1000 == 0:\n",
    "        print('processing image ', str(i))\n",
    "        \n"
   ]
  },
  {
   "cell_type": "code",
   "execution_count": 26,
   "metadata": {},
   "outputs": [],
   "source": [
    "# get the test labels.\n",
    "\n",
    "b7 = int32_from_file(f2)\n",
    "magic = b7.__next__()\n",
    "n_labels = b7.__next__()\n",
    "\n",
    "test_labels = []\n",
    "b8 = int8_from_file(f2, 8)\n",
    "for i in range(n_labels):\n",
    "    test_labels.append(b8.__next__())\n",
    "    "
   ]
  },
  {
   "cell_type": "code",
   "execution_count": 27,
   "metadata": {},
   "outputs": [
    {
     "data": {
      "text/plain": [
       "[5, 0, 4, 1, 9, 2, 1, 3, 1, 4]"
      ]
     },
     "execution_count": 27,
     "metadata": {},
     "output_type": "execute_result"
    }
   ],
   "source": [
    "test_labels[0:10]"
   ]
  },
  {
   "cell_type": "code",
   "execution_count": 30,
   "metadata": {},
   "outputs": [
    {
     "data": {
      "image/png": "[encoded data removed]",
      "text/plain": [
       "<Figure size 1440x288 with 5 Axes>"
      ]
     },
     "metadata": {
      "needs_background": "light"
     },
     "output_type": "display_data"
    }
   ],
   "source": [
    "import matplotlib\n",
    "%matplotlib inline\n",
    "from matplotlib import pyplot as plt\n",
    "\n",
    "plt.figure(figsize=(20,4))\n",
    "for index, (image, label) in enumerate(zip(train_images[0:5], train_labels[0:5])):\n",
    "    plt.subplot(1, 5, index + 1)\n",
    "    plt.imshow(np.reshape(image, (28,28)), cmap=plt.cm.gray)\n",
    "    plt.title('Training: %i\\n' % label, fontsize = 20)"
   ]
  },
  {
   "cell_type": "code",
   "execution_count": 31,
   "metadata": {},
   "outputs": [],
   "source": [
    "from sklearn.linear_model import LogisticRegression\n"
   ]
  },
  {
   "cell_type": "code",
   "execution_count": 38,
   "metadata": {},
   "outputs": [
    {
     "name": "stderr",
     "output_type": "stream",
     "text": [
      "/Users/JustinKim/Documents/workspace/AI/lib/python3.6/site-packages/sklearn/linear_model/logistic.py:469: FutureWarning: Default multi_class will be changed to 'auto' in 0.22. Specify the multi_class option to silence this warning.\n",
      "  \"this warning.\", FutureWarning)\n",
      "[Parallel(n_jobs=1)]: Using backend SequentialBackend with 1 concurrent workers.\n"
     ]
    },
    {
     "name": "stdout",
     "output_type": "stream",
     "text": [
      "convergence after 43 epochs took 24 seconds\n",
      "convergence after 40 epochs took 21 seconds\n",
      "convergence after 42 epochs took 21 seconds\n",
      "convergence after 49 epochs took 24 seconds\n",
      "convergence after 35 epochs took 20 seconds\n",
      "convergence after 40 epochs took 27 seconds\n",
      "convergence after 57 epochs took 33 seconds\n",
      "convergence after 51 epochs took 27 seconds\n",
      "convergence after 42 epochs took 20 seconds\n",
      "convergence after 57 epochs took 27 seconds\n"
     ]
    },
    {
     "name": "stderr",
     "output_type": "stream",
     "text": [
      "[Parallel(n_jobs=1)]: Done  10 out of  10 | elapsed:  4.1min finished\n"
     ]
    },
    {
     "data": {
      "text/plain": [
       "LogisticRegression(C=1.0, class_weight=None, dual=False, fit_intercept=True,\n",
       "                   intercept_scaling=1, l1_ratio=None, max_iter=100,\n",
       "                   multi_class='warn', n_jobs=None, penalty='l2',\n",
       "                   random_state=None, solver='sag', tol=0.01, verbose=1,\n",
       "                   warm_start=False)"
      ]
     },
     "execution_count": 38,
     "metadata": {},
     "output_type": "execute_result"
    }
   ],
   "source": [
    "lr = LogisticRegression(solver = 'sag', max_iter = 100, tol = 1e-2, verbose = 1)\n",
    "lr.fit(train_images, train_labels)"
   ]
  },
  {
   "cell_type": "code",
   "execution_count": 41,
   "metadata": {},
   "outputs": [
    {
     "data": {
      "text/plain": [
       "array([7, 2, 1, 0, 4, 1, 4, 9, 6, 9])"
      ]
     },
     "execution_count": 41,
     "metadata": {},
     "output_type": "execute_result"
    }
   ],
   "source": [
    "lr.predict(test_images[0:10])"
   ]
  },
  {
   "cell_type": "code",
   "execution_count": 43,
   "metadata": {},
   "outputs": [
    {
     "data": {
      "text/plain": [
       "[5, 0, 4, 1, 9, 2, 1, 3, 1, 4]"
      ]
     },
     "execution_count": 43,
     "metadata": {},
     "output_type": "execute_result"
    }
   ],
   "source": [
    "test_labels[0:10]"
   ]
  },
  {
   "cell_type": "code",
   "execution_count": null,
   "metadata": {},
   "outputs": [],
   "source": []
  }
 ],
 "metadata": {
  "kernelspec": {
   "display_name": "AI",
   "language": "python",
   "name": "ai"
  },
  "language_info": {
   "codemirror_mode": {
    "name": "ipython",
    "version": 3
   },
   "file_extension": ".py",
   "mimetype": "text/x-python",
   "name": "python",
   "nbconvert_exporter": "python",
   "pygments_lexer": "ipython3",
   "version": "3.6.2"
  }
 },
 "nbformat": 4,
 "nbformat_minor": 2
}
