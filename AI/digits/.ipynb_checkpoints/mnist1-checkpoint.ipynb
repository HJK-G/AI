{
 "cells": [
  {
   "cell_type": "code",
   "execution_count": 3,
   "metadata": {
    "scrolled": false
   },
   "outputs": [],
   "source": [
    "# get the mnist datasets\n",
    "import os\n",
    "if False:\n",
    "    !wget http://yann.lecun.com/exdb/mnist/train-images-idx3-ubyte.gz\n",
    "    !wget http://yann.lecun.com/exdb/mnist/train-labels-idx1-ubyte.gz\n",
    "    !wget http://yann.lecun.com/exdb/mnist/t10k-images-idx3-ubyte.gz\n",
    "    !wget http://yann.lecun.com/exdb/mnist/t10k-labels-idx1-ubyte.gz\n"
   ]
  },
  {
   "cell_type": "markdown",
   "metadata": {},
   "source": [
    "FILE FORMATS FOR THE MNIST DATABASE\n",
    "The data is stored in a very simple file format designed for storing vectors and multidimensional matrices. General info on this format is given at the end of this page, but you don't need to read that to use the data files.\n",
    "All the integers in the files are stored in the MSB first (high endian) format used by most non-Intel processors. Users of Intel processors and other low-endian machines must flip the bytes of the header.\n",
    "\n",
    "There are 4 files:\n",
    "\n",
    "train-images-idx3-ubyte: training set images\n",
    "train-labels-idx1-ubyte: training set labels\n",
    "t10k-images-idx3-ubyte:  test set images\n",
    "t10k-labels-idx1-ubyte:  test set labels\n",
    "\n",
    "The training set contains 60000 examples, and the test set 10000 examples.\n",
    "\n",
    "The first 5000 examples of the test set are taken from the original NIST training set. The last 5000 are taken from the original NIST test set. The first 5000 are cleaner and easier than the last 5000.\n",
    "\n",
    "TRAINING SET LABEL FILE (train-labels-idx1-ubyte):\n",
    "[offset] [type]          [value]          [description]\n",
    "0000     32 bit integer  0x00000801(2049) magic number (MSB first)\n",
    "0004     32 bit integer  60000            number of items\n",
    "0008     unsigned byte   ??               label\n",
    "0009     unsigned byte   ??               label\n",
    "........\n",
    "xxxx     unsigned byte   ??               label\n",
    "The labels values are 0 to 9.\n",
    "\n",
    "TRAINING SET IMAGE FILE (train-images-idx3-ubyte):\n",
    "[offset] [type]          [value]          [description]\n",
    "0000     32 bit integer  0x00000803(2051) magic number\n",
    "0004     32 bit integer  60000            number of images\n",
    "0008     32 bit integer  28               number of rows\n",
    "0012     32 bit integer  28               number of columns\n",
    "0016     unsigned byte   ??               pixel\n",
    "0017     unsigned byte   ??               pixel\n",
    "........\n",
    "xxxx     unsigned byte   ??               pixel\n",
    "Pixels are organized row-wise. Pixel values are 0 to 255. 0 means background (white), 255 means foreground (black).\n",
    "\n",
    "TEST SET LABEL FILE (t10k-labels-idx1-ubyte):\n",
    "[offset] [type]          [value]          [description]\n",
    "0000     32 bit integer  0x00000801(2049) magic number (MSB first)\n",
    "0004     32 bit integer  10000            number of items\n",
    "0008     unsigned byte   ??               label\n",
    "0009     unsigned byte   ??               label\n",
    "........\n",
    "xxxx     unsigned byte   ??               label\n",
    "The labels values are 0 to 9.\n",
    "\n",
    "TEST SET IMAGE FILE (t10k-images-idx3-ubyte):\n",
    "[offset] [type]          [value]          [description]\n",
    "0000     32 bit integer  0x00000803(2051) magic number\n",
    "0004     32 bit integer  10000            number of images\n",
    "0008     32 bit integer  28               number of rows\n",
    "0012     32 bit integer  28               number of columns\n",
    "0016     unsigned byte   ??               pixel\n",
    "0017     unsigned byte   ??               pixel\n",
    "........\n",
    "xxxx     unsigned byte   ??               pixel\n",
    "Pixels are organized row-wise. Pixel values are 0 to 255. 0 means background (white), 255 means foreground (black)."
   ]
  },
  {
   "cell_type": "code",
   "execution_count": 4,
   "metadata": {},
   "outputs": [
    {
     "name": "stdout",
     "output_type": "stream",
     "text": [
      "Digits.ipynb            t10k-images-idx3-ubyte  train-labels-idx1-ubyte\r\n",
      "mnist.ipynb             t10k-labels-idx1-ubyte\r\n",
      "mnist1.ipynb            train-images-idx3-ubyte\r\n"
     ]
    }
   ],
   "source": [
    "!ls"
   ]
  },
  {
   "cell_type": "code",
   "execution_count": 5,
   "metadata": {},
   "outputs": [],
   "source": [
    "f_train_images = 'train-images-idx3-ubyte'\n",
    "f_train_labels = 'train-labels-idx1-ubyte'\n",
    "f_test_images = 't10k-images-idx3-ubyte'\n",
    "f_test_labels = 't10k-labels-idx1-ubyte'"
   ]
  },
  {
   "cell_type": "code",
   "execution_count": 6,
   "metadata": {},
   "outputs": [],
   "source": [
    "import numpy as np\n",
    "\n",
    "def int32_from_file(filename, n_header = 0):\n",
    "    with open(filename, \"rb\") as f:\n",
    "        _ = f.read(n_header)\n",
    "        while True:\n",
    "            byte = f.read(4)\n",
    "            if not byte:\n",
    "                break\n",
    "            yield(int.from_bytes(byte, byteorder='big'))\n",
    "\n",
    "def int8_from_file(filename, n_header = 0):\n",
    "    with open(filename, \"rb\") as f:\n",
    "        _ = f.read(n_header)\n",
    "        while True:\n",
    "            byte = f.read(1)\n",
    "            if not byte:\n",
    "                break\n",
    "            yield(int.from_bytes(byte, byteorder='big'))\n",
    "\n",
    "def image_from_file(filename, n, m, n_header):\n",
    "    with open(filename, \"rb\") as f:\n",
    "        _ = f.read(n_header)\n",
    "        while True:\n",
    "            byte = f.read(n*m)\n",
    "            if not byte:\n",
    "                break\n",
    "            ints = np.array([byte[i] for i in range(n*m)], np.uint8)\n",
    "            yield ints.reshape(n*m,)\n"
   ]
  },
  {
   "cell_type": "code",
   "execution_count": 7,
   "metadata": {},
   "outputs": [
    {
     "name": "stdout",
     "output_type": "stream",
     "text": [
      "2051 60000 28 28\n"
     ]
    }
   ],
   "source": [
    "b1 = int32_from_file(f_train_images)\n",
    "magic = b1.__next__()\n",
    "n_images = b1.__next__()\n",
    "rows = b1.__next__()\n",
    "cols = b1.__next__()\n",
    "\n",
    "print(magic, n_images, rows, cols)"
   ]
  },
  {
   "cell_type": "code",
   "execution_count": 8,
   "metadata": {},
   "outputs": [
    {
     "name": "stdout",
     "output_type": "stream",
     "text": [
      "processing image  0\n",
      "processing image  10000\n",
      "processing image  20000\n",
      "processing image  30000\n",
      "processing image  40000\n",
      "processing image  50000\n"
     ]
    }
   ],
   "source": [
    "b2 = image_from_file(f_train_images, rows, cols, n_header=16)\n",
    "train_images = []\n",
    "for i in range(n_images):\n",
    "    train_images.append(b2.__next__())\n",
    "    if i % 10000 == 0:\n",
    "        print('processing image ', str(i))"
   ]
  },
  {
   "cell_type": "code",
   "execution_count": 9,
   "metadata": {},
   "outputs": [],
   "source": [
    "# get the training labels.\n",
    "\n",
    "b3 = int32_from_file(f_train_labels)\n",
    "magic = b3.__next__()\n",
    "n_labels = b3.__next__()\n",
    "\n",
    "train_labels = []\n",
    "b4 = int8_from_file(f_train_labels, 8)\n",
    "for i in range(n_labels):\n",
    "    train_labels.append(b4.__next__())\n",
    "    "
   ]
  },
  {
   "cell_type": "code",
   "execution_count": 10,
   "metadata": {},
   "outputs": [
    {
     "data": {
      "text/plain": [
       "[5, 0, 4, 1, 9, 2, 1, 3, 1, 4]"
      ]
     },
     "execution_count": 10,
     "metadata": {},
     "output_type": "execute_result"
    }
   ],
   "source": [
    "train_labels[0:10]"
   ]
  },
  {
   "cell_type": "code",
   "execution_count": 11,
   "metadata": {},
   "outputs": [
    {
     "name": "stdout",
     "output_type": "stream",
     "text": [
      "2051 10000 28 28\n",
      "processing image  0\n",
      "processing image  1000\n",
      "processing image  2000\n",
      "processing image  3000\n",
      "processing image  4000\n",
      "processing image  5000\n",
      "processing image  6000\n",
      "processing image  7000\n",
      "processing image  8000\n",
      "processing image  9000\n"
     ]
    }
   ],
   "source": [
    "b5 = int32_from_file(f_test_images)\n",
    "magic = b5.__next__()\n",
    "n_images = b5.__next__()\n",
    "rows = b5.__next__()\n",
    "cols = b5.__next__()\n",
    "\n",
    "print(magic, n_images, rows, cols)\n",
    "\n",
    "b6 = image_from_file(f_test_images, rows, cols, n_header=16)\n",
    "test_images = []\n",
    "for i in range(n_images):\n",
    "    test_images.append(b6.__next__())\n",
    "    if i % 1000 == 0:\n",
    "        print('processing image ', str(i))\n",
    "        \n"
   ]
  },
  {
   "cell_type": "code",
   "execution_count": 12,
   "metadata": {},
   "outputs": [],
   "source": [
    "# get the test labels.\n",
    "\n",
    "b7 = int32_from_file(f_test_labels)\n",
    "magic = b7.__next__()\n",
    "n_labels = b7.__next__()\n",
    "\n",
    "test_labels = []\n",
    "b8 = int8_from_file(f_test_labels, 8)\n",
    "for i in range(n_labels):\n",
    "    test_labels.append(b8.__next__())\n",
    "    "
   ]
  },
  {
   "cell_type": "code",
   "execution_count": 13,
   "metadata": {},
   "outputs": [
    {
     "data": {
      "text/plain": [
       "[7, 2, 1, 0, 4, 1, 4, 9, 5, 9]"
      ]
     },
     "execution_count": 13,
     "metadata": {},
     "output_type": "execute_result"
    }
   ],
   "source": [
    "test_labels[0:10]"
   ]
  },
  {
   "cell_type": "code",
   "execution_count": 14,
   "metadata": {
    "scrolled": true
   },
   "outputs": [
    {
     "data": {
      "image/png": "[encoded data removed]",
      "text/plain": [
       "<Figure size 1440x288 with 5 Axes>"
      ]
     },
     "metadata": {
      "needs_background": "light"
     },
     "output_type": "display_data"
    }
   ],
   "source": [
    "import matplotlib\n",
    "%matplotlib inline\n",
    "from matplotlib import pyplot as plt\n",
    "\n",
    "plt.figure(figsize=(20,4))\n",
    "for index, (image, label) in enumerate(zip(train_images[0:5], train_labels[0:5])):\n",
    "    plt.subplot(1, 5, index + 1)\n",
    "    plt.imshow(image.reshape(28,28), cmap=plt.cm.gray)\n",
    "    plt.title('Training: %i\\n' % label, fontsize = 20)"
   ]
  },
  {
   "cell_type": "code",
   "execution_count": 15,
   "metadata": {},
   "outputs": [],
   "source": [
    "from sklearn.linear_model import LogisticRegression\n",
    "from sklearn.preprocessing import StandardScaler\n",
    "import time\n"
   ]
  },
  {
   "cell_type": "code",
   "execution_count": 16,
   "metadata": {},
   "outputs": [],
   "source": [
    "scaler = StandardScaler()\n",
    "train_images_sc = scaler.fit_transform(train_images)\n",
    "test_images_sc = scaler.transform(test_images)"
   ]
  },
  {
   "cell_type": "code",
   "execution_count": 17,
   "metadata": {},
   "outputs": [],
   "source": [
    "clf1 = LogisticRegression(C=1e5,\n",
    "                         multi_class='multinomial', warm_start=True,\n",
    "                         penalty='l2', solver='sag', tol=0.1)\n",
    "\n",
    "clf2 = LogisticRegression(C=1e5,\n",
    "                         multi_class='multinomial', warm_start=True,\n",
    "                         penalty='l2', solver='sag', tol=0.01)"
   ]
  },
  {
   "cell_type": "code",
   "execution_count": 18,
   "metadata": {},
   "outputs": [],
   "source": [
    "# fit data\n",
    "now = time.time()\n",
    "clf1.fit(train_images_sc, train_labels)\n",
    "elapsed_time1 = time.time() - now"
   ]
  },
  {
   "cell_type": "code",
   "execution_count": 19,
   "metadata": {},
   "outputs": [
    {
     "name": "stdout",
     "output_type": "stream",
     "text": [
      "Elapsed time: 22.08 seconds\n",
      "Sparsity with L2 penalty: 8.55%\n",
      "Test score with L2 penalty: 0.9039\n"
     ]
    }
   ],
   "source": [
    "print('Elapsed time: {0:0.2f} seconds'.format(elapsed_time1))\n",
    "\n",
    "# percentage of nonzero weights\n",
    "sparsity1 = np.mean(clf1.coef_ == 0) * 100\n",
    "# compute accuracy\n",
    "score1 = clf1.score(test_images_sc, test_labels)\n",
    "\n",
    "print(\"Sparsity with L2 penalty: %.2f%%\" % sparsity1)\n",
    "print(\"Test score with L2 penalty: %.4f\" % score1)"
   ]
  },
  {
   "cell_type": "code",
   "execution_count": 20,
   "metadata": {},
   "outputs": [],
   "source": [
    "%matplotlib inline\n",
    "import matplotlib.pyplot as plt\n",
    "\n",
    "def plot_coef(coefs):\n",
    "    # plot weights vs the pixel position\n",
    "    coef = coefs.copy()\n",
    "    plt.figure(figsize=(10, 5))\n",
    "    scale = np.abs(coef).max()\n",
    "\n",
    "    for i in range(10):\n",
    "        l2_plot = plt.subplot(2, 5, i + 1)\n",
    "        l2_plot.imshow(coef[i].reshape(28, 28), interpolation='nearest', cmap=plt.cm.Greys, vmin=-scale, vmax=scale)\n",
    "        l2_plot.set_xticks(())\n",
    "        l2_plot.set_yticks(())\n",
    "        l2_plot.set_xlabel('Class %i' % i)\n",
    "        plt.suptitle('classification weights vector $w_j$ for digit class $j$')\n",
    "    plt.show()"
   ]
  },
  {
   "cell_type": "code",
   "execution_count": 21,
   "metadata": {},
   "outputs": [
    {
     "data": {
      "image/png": "[encoded data removed]",
      "text/plain": [
       "<Figure size 720x360 with 10 Axes>"
      ]
     },
     "metadata": {},
     "output_type": "display_data"
    }
   ],
   "source": [
    "plot_coef(clf1.coef_)"
   ]
  },
  {
   "cell_type": "code",
   "execution_count": 22,
   "metadata": {},
   "outputs": [
    {
     "data": {
      "text/plain": [
       "array([ 0.00000000e+00,  0.00000000e+00,  0.00000000e+00,  0.00000000e+00,\n",
       "        0.00000000e+00,  0.00000000e+00,  0.00000000e+00,  0.00000000e+00,\n",
       "        0.00000000e+00,  0.00000000e+00,  0.00000000e+00,  0.00000000e+00,\n",
       "        9.18931188e-05, -9.97911577e-05, -2.92112003e-04, -2.92112003e-04,\n",
       "        0.00000000e+00,  0.00000000e+00,  0.00000000e+00,  0.00000000e+00,\n",
       "        0.00000000e+00,  0.00000000e+00,  0.00000000e+00,  0.00000000e+00,\n",
       "        0.00000000e+00,  0.00000000e+00,  0.00000000e+00,  0.00000000e+00,\n",
       "        0.00000000e+00,  0.00000000e+00,  0.00000000e+00,  0.00000000e+00,\n",
       "        1.52450064e-04,  1.77173653e-04, -1.07147524e-03, -1.38714699e-03,\n",
       "       -3.40795965e-03, -1.23357977e-03, -4.93063895e-04,  2.39139416e-03,\n",
       "        3.76160737e-03,  1.28390068e-03, -8.71541142e-04, -5.21201672e-04,\n",
       "        2.44949202e-03,  5.77185900e-04, -6.34494555e-04, -1.32259581e-05,\n",
       "        1.49893145e-04,  3.14596800e-04,  2.28745232e-04,  8.40563217e-06,\n",
       "        0.00000000e+00,  0.00000000e+00,  0.00000000e+00,  0.00000000e+00,\n",
       "        0.00000000e+00,  0.00000000e+00,  1.57902363e-04,  5.72496679e-03,\n",
       "        4.59411623e-04,  3.44661820e-04, -3.64409510e-03, -2.75179009e-03,\n",
       "       -4.36954792e-03, -4.44550787e-03, -5.79663353e-03, -7.43793518e-03,\n",
       "       -9.27849868e-03, -9.93868824e-03, -1.28617612e-02, -1.22867038e-02,\n",
       "       -9.61758538e-03, -8.82366034e-03, -7.58365867e-03, -6.79244417e-03,\n",
       "       -5.62116580e-03, -4.38233958e-03, -2.88960116e-03, -1.02060448e-03,\n",
       "       -9.10447117e-04, -1.13752786e-03,  0.00000000e+00,  0.00000000e+00,\n",
       "        0.00000000e+00,  0.00000000e+00,  2.05870878e-04,  2.51565246e-03,\n",
       "       -1.70940052e-03, -2.91483834e-03, -6.40622658e-03, -6.04192959e-03,\n",
       "       -6.47302198e-03, -1.12955501e-02, -1.30778490e-02, -1.18329176e-02,\n",
       "       -1.44652473e-02, -1.37747185e-02, -1.54377829e-02, -1.27483834e-02,\n",
       "       -1.34785041e-02, -1.63332853e-02, -2.06701346e-02, -2.02228309e-02,\n",
       "       -1.65626532e-02, -1.39329637e-02, -1.04538237e-02, -4.16652161e-03,\n",
       "       -1.09031065e-03,  1.11774208e-04, -1.48177255e-03,  0.00000000e+00,\n",
       "        0.00000000e+00,  1.59061329e-04, -9.36331413e-04,  4.39071948e-04,\n",
       "       -3.50582261e-03, -6.70765450e-03, -7.23663049e-03, -6.05309925e-03,\n",
       "       -7.45805944e-03, -8.47635328e-03, -1.19669217e-02, -8.18694743e-03,\n",
       "       -1.34016461e-03,  6.23049260e-03,  6.60766495e-03,  1.23897459e-02,\n",
       "        7.55625664e-03,  3.25542779e-03, -3.42822103e-04, -3.24222276e-03,\n",
       "       -6.56380147e-03, -5.88619584e-03, -3.55331936e-03, -3.76453873e-03,\n",
       "       -4.89013153e-03, -3.02434725e-03, -1.85173531e-03,  9.77819551e-06,\n",
       "        0.00000000e+00,  0.00000000e+00, -5.91055740e-04,  6.92815783e-04,\n",
       "       -5.15438076e-03, -9.18113346e-03, -8.56696493e-03, -1.00252457e-02,\n",
       "       -1.14248024e-02, -1.39555576e-02, -1.30226689e-02, -7.50016708e-03,\n",
       "        1.27248776e-03,  1.60584727e-02,  2.50752166e-02,  3.34569177e-02,\n",
       "        3.46676869e-02,  2.86847785e-02,  1.94425694e-02,  8.75207281e-03,\n",
       "        1.84825689e-03,  7.43177587e-04, -6.64126844e-04, -8.61541069e-03,\n",
       "       -9.69559321e-03, -7.11459140e-03, -3.34172543e-03, -8.26724620e-04,\n",
       "        0.00000000e+00, -1.74743069e-03, -1.07687454e-03, -1.34343375e-03,\n",
       "       -5.79290155e-03, -7.27544841e-03, -9.88843137e-03, -1.31477618e-02,\n",
       "       -1.63554609e-02, -2.00114390e-02, -1.69467609e-02, -9.41558154e-03,\n",
       "        8.14483739e-05,  1.51165317e-02,  2.42768842e-02,  3.32730527e-02,\n",
       "        4.40435443e-02,  4.50017692e-02,  3.54133481e-02,  1.83835105e-02,\n",
       "        6.84251172e-03,  7.01724561e-03,  8.62387291e-03, -1.65683998e-03,\n",
       "       -1.22473731e-02, -1.06000419e-02, -4.35901833e-03,  1.30057408e-03,\n",
       "        1.54728549e-04, -7.02325818e-04, -1.77712832e-03, -2.26368795e-03,\n",
       "       -7.80023531e-03, -8.50909775e-03, -1.27986472e-02, -1.57373795e-02,\n",
       "       -2.10439093e-02, -1.88464799e-02, -1.73957386e-02, -9.89875234e-03,\n",
       "        2.13758454e-03,  1.29127099e-02,  2.47964328e-02,  3.87989108e-02,\n",
       "        5.09404886e-02,  5.99899208e-02,  5.10326344e-02,  3.21235429e-02,\n",
       "        1.19445462e-02,  5.43348936e-03,  9.85326000e-03,  8.05592539e-03,\n",
       "       -6.60519605e-03, -1.30787417e-02, -5.18280126e-03,  4.91207364e-03,\n",
       "        9.79828146e-03,  2.28440984e-05,  4.16839640e-04, -2.44443868e-03,\n",
       "       -1.07185222e-02, -1.19472326e-02, -1.25138758e-02, -1.56909016e-02,\n",
       "       -1.77530104e-02, -1.81154418e-02, -1.25153329e-02, -4.39741559e-03,\n",
       "        1.18965552e-02,  2.44661794e-02,  3.49000221e-02,  4.36090118e-02,\n",
       "        5.39269827e-02,  5.93862326e-02,  5.68690780e-02,  4.15589609e-02,\n",
       "        2.44879698e-02,  9.58211507e-03,  9.16379765e-03,  1.24619268e-02,\n",
       "       -1.61754920e-03, -1.67833819e-02, -6.75114158e-03, -1.63186369e-03,\n",
       "        2.15545269e-04,  4.59519837e-04,  1.65828626e-04, -3.75169498e-03,\n",
       "       -1.09362425e-02, -1.17664599e-02, -1.36563786e-02, -1.40732020e-02,\n",
       "       -1.54065581e-02, -1.17009446e-02, -9.76599040e-04,  1.04636172e-02,\n",
       "        2.87442165e-02,  4.14865473e-02,  3.78658925e-02,  2.96454483e-02,\n",
       "        3.04904527e-02,  4.06820486e-02,  5.11329238e-02,  4.95952257e-02,\n",
       "        3.59257608e-02,  2.12035821e-02,  1.60683975e-02,  2.07941746e-02,\n",
       "        9.85133304e-03, -1.85929101e-02, -8.60895925e-03, -1.38728627e-03,\n",
       "        2.12395240e-04, -1.67210681e-03,  1.00304022e-03, -5.25562981e-03,\n",
       "       -1.07334554e-02, -1.03919775e-02, -1.18512933e-02, -8.18396913e-03,\n",
       "       -8.94988466e-03, -2.09398211e-03,  8.35131022e-03,  2.85864752e-02,\n",
       "        3.74558043e-02,  3.21732493e-02,  1.60646480e-02, -3.97829676e-03,\n",
       "       -1.00156594e-02,  4.71966357e-03,  2.89342028e-02,  4.29318033e-02,\n",
       "        4.45069969e-02,  3.53005462e-02,  3.58046607e-02,  3.56722827e-02,\n",
       "        2.02580268e-02, -1.83730921e-02, -9.55291284e-03, -1.60628889e-03,\n",
       "        2.73121744e-04, -1.55107515e-04, -1.44142377e-03, -6.82824520e-03,\n",
       "       -1.44562482e-02, -1.13130946e-02, -3.03500852e-03, -7.39983191e-04,\n",
       "       -3.79205338e-04,  5.02283082e-03,  2.32904214e-02,  3.44177224e-02,\n",
       "        2.50903091e-02, -3.01602839e-04, -3.24800145e-02, -5.24881733e-02,\n",
       "       -5.83701677e-02, -3.88162553e-02, -7.54333517e-03,  2.66068519e-02,\n",
       "        4.32291301e-02,  4.79969471e-02,  5.48348372e-02,  5.23242093e-02,\n",
       "        3.36330776e-02, -1.30720050e-02, -9.09904864e-03, -7.64852623e-04,\n",
       "        2.07991516e-04,  7.82016071e-04, -1.61113122e-03, -8.79584117e-03,\n",
       "       -1.61165764e-02, -3.87346054e-03,  6.22851730e-03,  7.58514605e-03,\n",
       "        8.16598743e-03,  1.96531826e-02,  3.49788711e-02,  2.78995233e-02,\n",
       "       -1.60930675e-03, -4.27725449e-02, -7.32474618e-02, -8.94526534e-02,\n",
       "       -9.44220207e-02, -7.30240898e-02, -3.55195668e-02,  6.81195408e-03,\n",
       "        3.49131846e-02,  5.13496617e-02,  6.52362538e-02,  6.45013763e-02,\n",
       "        4.30600875e-02, -6.63178370e-04, -7.81612405e-03, -1.65594773e-04,\n",
       "        1.42739360e-04,  2.66453664e-03, -1.71985043e-03, -8.96115205e-03,\n",
       "       -1.22029883e-02,  3.80074270e-03,  1.48591351e-02,  2.15216460e-02,\n",
       "        2.32162082e-02,  3.71663010e-02,  3.92732269e-02,  1.12407093e-02,\n",
       "       -3.47273675e-02, -7.86899149e-02, -9.78187398e-02, -1.12757340e-01,\n",
       "       -1.14897496e-01, -8.76984875e-02, -4.57589152e-02, -4.62407495e-03,\n",
       "        2.62119239e-02,  4.87233382e-02,  6.45776379e-02,  6.28779974e-02,\n",
       "        3.95961881e-02,  5.12784883e-03, -3.52503296e-03, -5.39771442e-04,\n",
       "       -2.80014527e-05, -2.20226747e-04, -2.94637796e-03, -1.39359067e-02,\n",
       "       -7.88377922e-03,  1.27654447e-02,  2.50984961e-02,  3.38968122e-02,\n",
       "        4.11104674e-02,  5.01611042e-02,  3.54917332e-02, -9.71612375e-03,\n",
       "       -6.25707697e-02, -9.71120154e-02, -1.12627257e-01, -1.22679582e-01,\n",
       "       -1.17296616e-01, -8.35947047e-02, -3.96461177e-02, -7.63027339e-04,\n",
       "        2.67886484e-02,  4.45219389e-02,  5.24971624e-02,  5.24530279e-02,\n",
       "        3.58741614e-02,  4.44429206e-03, -2.80395624e-03, -1.52816912e-04,\n",
       "       -1.47608950e-04, -6.60185548e-04, -7.43985513e-04, -1.57055661e-02,\n",
       "       -1.57708768e-03,  2.10372691e-02,  2.93198991e-02,  4.45143610e-02,\n",
       "        5.41935070e-02,  5.72734148e-02,  2.90741996e-02, -2.72096008e-02,\n",
       "       -7.74429050e-02, -1.05984268e-01, -1.17606008e-01, -1.21352516e-01,\n",
       "       -1.02033948e-01, -6.39391560e-02, -2.12129647e-02,  9.64739978e-03,\n",
       "        2.93971675e-02,  3.36403920e-02,  3.89817010e-02,  4.22008739e-02,\n",
       "        2.87414212e-02,  1.90126266e-03, -3.33352000e-03, -4.39552781e-04,\n",
       "       -6.46048896e-04, -4.46611235e-04, -2.28587763e-03, -1.87020621e-02,\n",
       "       -1.92967576e-03,  2.49662298e-02,  3.49020537e-02,  4.88027814e-02,\n",
       "        6.10510992e-02,  5.62278534e-02,  2.10194610e-02, -3.37630214e-02,\n",
       "       -7.84563368e-02, -1.00332563e-01, -1.07444801e-01, -1.02195427e-01,\n",
       "       -7.71655152e-02, -3.69669731e-02,  1.77462696e-04,  2.15988893e-02,\n",
       "        2.68885978e-02,  2.51092993e-02,  2.82037110e-02,  2.95220013e-02,\n",
       "        1.60837479e-02, -2.11670950e-03, -2.92118127e-03, -3.88128601e-04,\n",
       "        0.00000000e+00, -2.29464329e-03, -4.18608368e-03, -2.18282145e-02,\n",
       "       -4.86537256e-03,  2.25931664e-02,  3.39190239e-02,  4.80379268e-02,\n",
       "        6.05509949e-02,  5.62808938e-02,  2.28309075e-02, -2.67082888e-02,\n",
       "       -6.25103298e-02, -8.26892026e-02, -8.66399508e-02, -7.27052054e-02,\n",
       "       -4.26742546e-02, -7.61882689e-03,  1.59213715e-02,  2.21128963e-02,\n",
       "        1.87091617e-02,  1.63312735e-02,  1.77965382e-02,  1.40625932e-02,\n",
       "        9.53251177e-03, -5.12922477e-04, -2.83015887e-03,  2.55558613e-02,\n",
       "        5.27839071e-05, -1.77095493e-03, -4.07841902e-03, -2.28598896e-02,\n",
       "       -8.94852426e-03,  1.38964579e-02,  2.78211148e-02,  4.46300624e-02,\n",
       "        5.97913389e-02,  5.83096434e-02,  3.21060046e-02, -1.10079300e-02,\n",
       "       -4.31163961e-02, -5.77099641e-02, -5.51244713e-02, -3.64439612e-02,\n",
       "       -1.31675383e-02,  9.14409840e-03,  1.78791662e-02,  1.44531375e-02,\n",
       "        1.00319760e-02,  8.21351398e-03,  8.93022733e-03,  3.14568484e-03,\n",
       "        5.45128006e-03, -2.49732214e-03, -1.54912834e-03, -1.06727625e-03,\n",
       "        1.51503683e-04,  3.65528640e-03, -3.40401264e-03, -1.83136112e-02,\n",
       "       -7.65966701e-03,  6.93689436e-03,  2.08109470e-02,  3.51884229e-02,\n",
       "        4.88788181e-02,  5.55561411e-02,  4.23895379e-02,  1.06354240e-02,\n",
       "       -1.38003743e-02, -2.42215002e-02, -1.87691608e-02, -6.76280684e-03,\n",
       "        7.76825105e-03,  1.63679198e-02,  1.23774589e-02,  5.62287333e-03,\n",
       "        1.37937238e-03,  2.23256836e-03,  3.14154970e-03,  7.53812130e-04,\n",
       "        3.16209996e-03, -1.74306013e-03, -4.49179986e-04,  6.77226988e-05,\n",
       "        0.00000000e+00,  8.21121352e-03, -1.77941039e-03, -1.37170463e-02,\n",
       "       -4.48934547e-03,  5.59006534e-03,  1.47382131e-02,  2.31454011e-02,\n",
       "        3.53071706e-02,  4.97973833e-02,  5.04719908e-02,  3.44894161e-02,\n",
       "        1.79674393e-02,  8.01046428e-03,  7.36977401e-03,  1.57400353e-02,\n",
       "        1.80683437e-02,  1.54720599e-02,  1.74838314e-03, -3.81246716e-03,\n",
       "       -4.65606765e-03, -4.37631010e-04, -1.46831502e-03, -1.55357824e-03,\n",
       "       -7.84685546e-04, -2.14712583e-03,  6.72109736e-04, -4.67564780e-04,\n",
       "        1.57521970e-04,  7.94937304e-05, -1.63327082e-03, -8.27913383e-03,\n",
       "       -5.15484147e-03,  3.75220949e-03,  1.15168273e-02,  1.69498923e-02,\n",
       "        2.31848727e-02,  4.19971822e-02,  5.40935210e-02,  5.27888748e-02,\n",
       "        4.10329152e-02,  2.99593086e-02,  2.76503044e-02,  2.77936886e-02,\n",
       "        1.99156530e-02,  3.97344773e-03, -3.69711634e-03, -8.45060149e-03,\n",
       "       -6.83237921e-03, -4.63532935e-03, -2.80071232e-03, -3.24280723e-03,\n",
       "       -2.73184120e-03, -1.93727575e-03,  4.29180017e-03,  2.73125566e-04,\n",
       "        1.57521970e-04,  2.01729223e-04, -1.72160160e-03, -6.68871296e-03,\n",
       "       -9.24624624e-03,  1.10751957e-03,  1.09947308e-02,  1.48219141e-02,\n",
       "        2.32931446e-02,  3.48963770e-02,  4.71855687e-02,  5.77654206e-02,\n",
       "        5.59516818e-02,  5.27209263e-02,  4.30633440e-02,  3.06996997e-02,\n",
       "        1.43373510e-02,  1.81900834e-03, -6.62437262e-03, -1.00305776e-02,\n",
       "       -1.20639811e-02, -9.12987423e-03, -5.46113411e-03, -3.72387153e-03,\n",
       "       -2.16763500e-03, -6.80965189e-04,  1.49645939e-03,  2.73125566e-04,\n",
       "        0.00000000e+00,  0.00000000e+00, -1.53246535e-03, -5.47247764e-03,\n",
       "       -1.19622488e-02, -5.29439151e-03,  1.62049152e-03,  1.10037542e-02,\n",
       "        1.39860589e-02,  2.25254708e-02,  3.09648822e-02,  4.07440464e-02,\n",
       "        4.56319048e-02,  4.02320455e-02,  2.93192586e-02,  1.60847964e-02,\n",
       "        3.04392775e-03, -5.29941611e-03, -1.33791563e-02, -2.02445830e-02,\n",
       "       -1.93139476e-02, -1.44953538e-02, -1.04465630e-02, -5.60280613e-03,\n",
       "       -1.71874739e-03,  1.55170479e-04, -1.29711510e-03,  0.00000000e+00,\n",
       "        0.00000000e+00,  0.00000000e+00, -4.26317298e-04, -1.72474677e-03,\n",
       "       -4.19986429e-03, -6.71525790e-03, -1.00726828e-02, -1.01036906e-02,\n",
       "       -8.03160963e-03, -8.75307645e-03, -6.48798947e-03, -5.19690568e-03,\n",
       "       -2.50232390e-03, -3.92541158e-03, -6.10894185e-03, -8.86766130e-03,\n",
       "       -1.37731917e-02, -1.69595259e-02, -1.94755783e-02, -1.95626213e-02,\n",
       "       -1.90893527e-02, -1.61902739e-02, -1.08484927e-02, -5.92804569e-03,\n",
       "       -2.67224324e-03,  6.77610106e-04,  1.84490047e-04,  0.00000000e+00,\n",
       "        0.00000000e+00,  0.00000000e+00,  2.54126711e-05, -2.07621520e-03,\n",
       "       -2.77678057e-03, -6.55719643e-03, -9.19513575e-03, -1.28214089e-02,\n",
       "       -1.58881748e-02, -1.88138672e-02, -2.07263368e-02, -2.08546914e-02,\n",
       "       -2.32122417e-02, -2.30090130e-02, -2.16190460e-02, -1.84495566e-02,\n",
       "       -1.68958652e-02, -1.53710024e-02, -1.28324790e-02, -1.07179379e-02,\n",
       "       -1.02749794e-02, -8.47749728e-03, -5.51468639e-03, -2.78085110e-03,\n",
       "       -2.12683589e-03,  1.94626678e-04,  1.59684202e-04,  0.00000000e+00,\n",
       "        0.00000000e+00,  0.00000000e+00,  0.00000000e+00,  7.64580854e-05,\n",
       "       -2.26173745e-03, -3.77060378e-03, -2.81362197e-03, -4.60534105e-03,\n",
       "       -5.72468528e-03, -7.35116650e-03, -7.83637005e-03, -7.40217968e-03,\n",
       "       -7.26957944e-03, -8.12154290e-03, -8.34910709e-03, -7.85741605e-03,\n",
       "       -7.06660952e-03, -6.30157124e-03, -5.03430271e-03, -3.08702451e-03,\n",
       "       -3.16582060e-03, -2.49279964e-03, -1.30394903e-03, -7.32749794e-04,\n",
       "       -5.49774616e-05,  1.51345702e-04,  0.00000000e+00,  0.00000000e+00,\n",
       "        0.00000000e+00,  0.00000000e+00,  0.00000000e+00,  0.00000000e+00,\n",
       "        1.19503403e-04, -1.36055366e-04, -2.51786027e-04, -4.85455885e-04,\n",
       "       -8.92515911e-04, -2.21076204e-03, -2.52846856e-03, -9.89433883e-04,\n",
       "       -1.23436812e-03, -2.76482820e-03, -2.79443058e-03, -2.11139457e-03,\n",
       "       -1.98257480e-03, -9.57413336e-04, -9.47409746e-04, -1.94822201e-03,\n",
       "       -1.14272702e-03, -8.53861452e-04, -8.77126875e-04, -6.09869990e-04,\n",
       "        0.00000000e+00,  0.00000000e+00,  0.00000000e+00,  0.00000000e+00])"
      ]
     },
     "execution_count": 22,
     "metadata": {},
     "output_type": "execute_result"
    }
   ],
   "source": [
    "clf1.coef_[0]"
   ]
  },
  {
   "cell_type": "code",
   "execution_count": 23,
   "metadata": {},
   "outputs": [],
   "source": [
    "# fit data\n",
    "now = time.time()\n",
    "#clf2.fit(train_images_sc, train_labels)\n",
    "elapsed_time2 = time.time() - now"
   ]
  },
  {
   "cell_type": "code",
   "execution_count": 24,
   "metadata": {},
   "outputs": [
    {
     "name": "stdout",
     "output_type": "stream",
     "text": [
      "Elapsed time: 0.00 seconds\n"
     ]
    },
    {
     "ename": "AttributeError",
     "evalue": "'LogisticRegression' object has no attribute 'coef_'",
     "output_type": "error",
     "traceback": [
      "\u001b[0;31m---------------------------------------------------------------------------\u001b[0m",
      "\u001b[0;31mAttributeError\u001b[0m                            Traceback (most recent call last)",
      "\u001b[0;32m<ipython-input-24-9e7f704caffe>\u001b[0m in \u001b[0;36m<module>\u001b[0;34m\u001b[0m\n\u001b[1;32m      2\u001b[0m \u001b[0;34m\u001b[0m\u001b[0m\n\u001b[1;32m      3\u001b[0m \u001b[0;31m# percentage of nonzero weights\u001b[0m\u001b[0;34m\u001b[0m\u001b[0;34m\u001b[0m\u001b[0m\n\u001b[0;32m----> 4\u001b[0;31m \u001b[0msparsity2\u001b[0m \u001b[0;34m=\u001b[0m \u001b[0mnp\u001b[0m\u001b[0;34m.\u001b[0m\u001b[0mmean\u001b[0m\u001b[0;34m(\u001b[0m\u001b[0mclf2\u001b[0m\u001b[0;34m.\u001b[0m\u001b[0mcoef_\u001b[0m \u001b[0;34m==\u001b[0m \u001b[0;36m0\u001b[0m\u001b[0;34m)\u001b[0m \u001b[0;34m*\u001b[0m \u001b[0;36m100\u001b[0m\u001b[0;34m\u001b[0m\u001b[0m\n\u001b[0m\u001b[1;32m      5\u001b[0m \u001b[0;31m# compute accuracy\u001b[0m\u001b[0;34m\u001b[0m\u001b[0;34m\u001b[0m\u001b[0m\n\u001b[1;32m      6\u001b[0m \u001b[0mscore2\u001b[0m \u001b[0;34m=\u001b[0m \u001b[0mclf2\u001b[0m\u001b[0;34m.\u001b[0m\u001b[0mscore\u001b[0m\u001b[0;34m(\u001b[0m\u001b[0mtest_images_sc\u001b[0m\u001b[0;34m,\u001b[0m \u001b[0mtest_labels\u001b[0m\u001b[0;34m)\u001b[0m\u001b[0;34m\u001b[0m\u001b[0m\n",
      "\u001b[0;31mAttributeError\u001b[0m: 'LogisticRegression' object has no attribute 'coef_'"
     ]
    }
   ],
   "source": [
    "print('Elapsed time: {0:0.2f} seconds'.format(elapsed_time2))\n",
    "\n",
    "# percentage of nonzero weights\n",
    "sparsity2 = np.mean(clf2.coef_ == 0) * 100\n",
    "# compute accuracy\n",
    "score2 = clf2.score(test_images_sc, test_labels)\n",
    "\n",
    "print(\"Sparsity with L2 penalty: %.2f%%\" % sparsity2)\n",
    "print(\"Test score with L2 penalty: %.4f\" % score2)"
   ]
  },
  {
   "cell_type": "code",
   "execution_count": null,
   "metadata": {},
   "outputs": [],
   "source": [
    "score2a = clf2.score(train_images_sc, train_labels)\n",
    "score2a"
   ]
  },
  {
   "cell_type": "code",
   "execution_count": null,
   "metadata": {},
   "outputs": [],
   "source": [
    "# Returns a NumPy Array\n",
    "# Predict for One Observation (image)\n",
    "clf1.predict(test_images_sc[0:20])"
   ]
  },
  {
   "cell_type": "code",
   "execution_count": null,
   "metadata": {},
   "outputs": [],
   "source": [
    "np.array(test_labels[0:20])"
   ]
  },
  {
   "cell_type": "code",
   "execution_count": null,
   "metadata": {},
   "outputs": [],
   "source": [
    "clf2.coef_"
   ]
  },
  {
   "cell_type": "code",
   "execution_count": null,
   "metadata": {},
   "outputs": [],
   "source": [
    "clf2.coef_.shape"
   ]
  },
  {
   "cell_type": "code",
   "execution_count": null,
   "metadata": {},
   "outputs": [],
   "source": [
    "print(min(clf2.coef_[0,:]), np.mean(clf2.coef_[0,:]), max(clf2.coef_[0,:]))"
   ]
  },
  {
   "cell_type": "code",
   "execution_count": null,
   "metadata": {},
   "outputs": [],
   "source": []
  },
  {
   "cell_type": "code",
   "execution_count": null,
   "metadata": {},
   "outputs": [],
   "source": [
    "plot_coef(clf1.coef_)"
   ]
  },
  {
   "cell_type": "code",
   "execution_count": null,
   "metadata": {},
   "outputs": [],
   "source": [
    "plot_coef(clf2.coef_)"
   ]
  },
  {
   "cell_type": "code",
   "execution_count": 25,
   "metadata": {},
   "outputs": [],
   "source": [
    "from sklearn.metrics import confusion_matrix as cm"
   ]
  },
  {
   "cell_type": "code",
   "execution_count": 26,
   "metadata": {},
   "outputs": [],
   "source": [
    "test_predict = clf1.predict(test_images_sc)"
   ]
  },
  {
   "cell_type": "code",
   "execution_count": null,
   "metadata": {},
   "outputs": [],
   "source": []
  }
 ],
 "metadata": {
  "kernelspec": {
   "display_name": "AI",
   "language": "python",
   "name": "ai"
  },
  "language_info": {
   "codemirror_mode": {
    "name": "ipython",
    "version": 3
   },
   "file_extension": ".py",
   "mimetype": "text/x-python",
   "name": "python",
   "nbconvert_exporter": "python",
   "pygments_lexer": "ipython3",
   "version": "3.6.2"
  }
 },
 "nbformat": 4,
 "nbformat_minor": 2
}
