{
  "nbformat": 4,
  "nbformat_minor": 0,
  "metadata": {
    "colab": {
      "name": "CentAI.ipynb",
      "provenance": [],
      "collapsed_sections": [],
      "include_colab_link": true
    },
    "kernelspec": {
      "name": "python3",
      "display_name": "Python 3"
    },
    "accelerator": "GPU"
  },
  "cells": [
    {
      "cell_type": "markdown",
      "metadata": {
        "id": "view-in-github",
        "colab_type": "text"
      },
      "source": [
        "<a href=\"https://colab.research.google.com/github/HJK-G/AI/blob/master/CentAI.ipynb\" target=\"_parent\"><img src=\"https://colab.research.google.com/assets/colab-badge.svg\" alt=\"Open In Colab\"/></a>"
      ]
    },
    {
      "cell_type": "markdown",
      "metadata": {
        "id": "BR0gN7zhScJZ",
        "colab_type": "text"
      },
      "source": [
        "#**CentAI**\n",
        "By Justin Kim"
      ]
    },
    {
      "cell_type": "markdown",
      "metadata": {
        "id": "mUWc2wzrsZvs",
        "colab_type": "text"
      },
      "source": [
        "# DESCRIPTION\n",
        "This is an AI project to play a game.\n",
        "\n",
        "It uses Deep Reinforcement Learning (DQNAgent)\n",
        "\n",
        "https://keon.io/deep-q-learning/\n",
        "\n",
        "The game is Centakill, made by one of my friends, Kaiway Tang.\n",
        "\n",
        "Go check them out at: https://kaiway.itch.io/\n",
        "\n",
        "Or just the game at: https://kaiway.itch.io/centa\n",
        "\n"
      ]
    },
    {
      "cell_type": "markdown",
      "metadata": {
        "id": "v6L6bjRuoHwQ",
        "colab_type": "text"
      },
      "source": [
        "NOTE:\n",
        "\n",
        "This only works if you run this on your local machine.\n",
        "\n",
        "You can do this by:\n",
        "\n",
        "1. copying the code into a local Python environment on your computer.\n",
        "2. connecting this notebook to a local runtime\n",
        "https://research.google.com/colaboratory/local-runtimes.html\n",
        "\n",
        "I would recommend option 2."
      ]
    },
    {
      "cell_type": "markdown",
      "metadata": {
        "id": "Y41mkdsBpaEN",
        "colab_type": "text"
      },
      "source": [
        "\n",
        "For Option 1:\n",
        "\n",
        "I will assume you have basic Python knowledge and know how to use your Python editor (installing packages, creating new files) for this tutorial.\n",
        "\n",
        "1. Install the packages listed below\n",
        "2. Create a new file\n",
        "3. Copy code from each code box into the file\n",
        "4. Run the program\n",
        "5. If prompted, give the editor access to your system (so it can use press keys)\n",
        "6. If there are any questions, add a comment to my Youtube video and I'll try to help"
      ]
    },
    {
      "cell_type": "markdown",
      "metadata": {
        "id": "9FI_K2Jdpcmh",
        "colab_type": "text"
      },
      "source": [
        "\n",
        "For Option 2:\n",
        "\n",
        "It should be simpler, just downloading a couple things and enabling them, so I will only assume you know how to use your computer.\n",
        "\n",
        "1. Download Python https://www.python.org/downloads/\n",
        "\n",
        "2. Go to your terminal\n",
        "\n",
        "3. Do ```pip install jupyterlab```\n",
        "\n",
        "4. Do ```pip install jupyter_https_over_ws```\n",
        "\n",
        "5. Do ```jupyter serverextension enable --py jupyter_https_over_ws```\n",
        "\n",
        "6. Do \n",
        "```\n",
        "jupyter notebook --NotebookApp.allow_origin='https://colab.research.google.com'  --port=8888 --NotebookApp.port_retries=0\n",
        "```\n",
        "to start the notebook server. This should open a new tab in your web browser.\n",
        "\n",
        "7. Go back to this colab to the top right where it says RAM and Disk and click on the dropdown menu\n",
        "\n",
        "8. Press connect to local runtime and then press connect"
      ]
    },
    {
      "cell_type": "markdown",
      "metadata": {
        "id": "5CD0dERIlyYH",
        "colab_type": "text"
      },
      "source": [
        "#Code"
      ]
    },
    {
      "cell_type": "markdown",
      "metadata": {
        "id": "N24RhD4OlbY5",
        "colab_type": "text"
      },
      "source": [
        "installaton of various packages\n",
        "\n",
        "run only once at the beginning\n"
      ]
    },
    {
      "cell_type": "code",
      "metadata": {
        "id": "kWx6phKzlhRO",
        "colab_type": "code",
        "colab": {
          "base_uri": "https://localhost:8080/",
          "height": 1000
        },
        "outputId": "02799bea-435c-4b0b-d8db-b5ef13aa530e"
      },
      "source": [
        "!pip install numpy\n",
        "!pip install keras\n",
        "!pip install mss\n",
        "!pip install Pillow\n",
        "!pip install opencv-python\n",
        "!pip install pyautogui\n",
        "!pip install pytesseract"
      ],
      "execution_count": 1,
      "outputs": [
        {
          "output_type": "stream",
          "text": [
            "Requirement already satisfied: numpy in /usr/local/lib/python3.6/dist-packages (1.17.4)\n",
            "Requirement already satisfied: keras in /usr/local/lib/python3.6/dist-packages (2.2.5)\n",
            "Requirement already satisfied: keras-applications>=1.0.8 in /usr/local/lib/python3.6/dist-packages (from keras) (1.0.8)\n",
            "Requirement already satisfied: numpy>=1.9.1 in /usr/local/lib/python3.6/dist-packages (from keras) (1.17.4)\n",
            "Requirement already satisfied: pyyaml in /usr/local/lib/python3.6/dist-packages (from keras) (3.13)\n",
            "Requirement already satisfied: six>=1.9.0 in /usr/local/lib/python3.6/dist-packages (from keras) (1.12.0)\n",
            "Requirement already satisfied: scipy>=0.14 in /usr/local/lib/python3.6/dist-packages (from keras) (1.3.3)\n",
            "Requirement already satisfied: h5py in /usr/local/lib/python3.6/dist-packages (from keras) (2.8.0)\n",
            "Requirement already satisfied: keras-preprocessing>=1.1.0 in /usr/local/lib/python3.6/dist-packages (from keras) (1.1.0)\n",
            "Collecting mss\n",
            "  Downloading https://files.pythonhosted.org/packages/67/2a/8e26437bcc840e19ca5290897d47f5405e302af27d4a6401e0b0edc39942/mss-4.0.3-py2.py3-none-any.whl\n",
            "Installing collected packages: mss\n",
            "Successfully installed mss-4.0.3\n",
            "Requirement already satisfied: Pillow in /usr/local/lib/python3.6/dist-packages (4.3.0)\n",
            "Requirement already satisfied: olefile in /usr/local/lib/python3.6/dist-packages (from Pillow) (0.46)\n",
            "Requirement already satisfied: opencv-python in /usr/local/lib/python3.6/dist-packages (4.1.2.30)\n",
            "Requirement already satisfied: numpy>=1.11.3 in /usr/local/lib/python3.6/dist-packages (from opencv-python) (1.17.4)\n",
            "Collecting pyautogui\n",
            "\u001b[?25l  Downloading https://files.pythonhosted.org/packages/1c/3c/4711a718371f6a16fd19833abf5feea2b1701722bcecdba782d5db7a9f36/PyAutoGUI-0.9.48.tar.gz (57kB)\n",
            "\u001b[K     |████████████████████████████████| 61kB 2.0MB/s \n",
            "\u001b[?25hCollecting pymsgbox\n",
            "  Downloading https://files.pythonhosted.org/packages/ac/e0/0ac1ac67178a71b92e46f46788ddd799bb40bff40acd60c47c50be170374/PyMsgBox-1.0.7.tar.gz\n",
            "Collecting PyTweening>=1.0.1\n",
            "  Downloading https://files.pythonhosted.org/packages/b9/f8/c32a58d6e4dff8aa5c27e907194d69f3b57e525c2e4af96f39c6e9c854d2/PyTweening-1.0.3.zip\n",
            "Collecting pyscreeze>=0.1.21\n",
            "  Downloading https://files.pythonhosted.org/packages/ec/ac/5835f30f47b1ec870a4f8411a272b7eff4deedd159d20874478b924448f5/PyScreeze-0.1.25.tar.gz\n",
            "Collecting pygetwindow>=0.0.5\n",
            "  Downloading https://files.pythonhosted.org/packages/28/8b/f1a396f8ec5923e11246fabe29419a6dd8949a0360337fe6ad0f28a9c33b/PyGetWindow-0.0.8.tar.gz\n",
            "Collecting mouseinfo\n",
            "  Downloading https://files.pythonhosted.org/packages/cc/dd/dd184693becfcf4fe3eda41462b791687fd4b1d314f53b387a72d88ba08d/MouseInfo-0.1.2.tar.gz\n",
            "Collecting python3-Xlib\n",
            "\u001b[?25l  Downloading https://files.pythonhosted.org/packages/ef/c6/2c5999de3bb1533521f1101e8fe56fd9c266732f4d48011c7c69b29d12ae/python3-xlib-0.15.tar.gz (132kB)\n",
            "\u001b[K     |████████████████████████████████| 133kB 7.9MB/s \n",
            "\u001b[?25hRequirement already satisfied: Pillow>=4.0.0 in /usr/local/lib/python3.6/dist-packages (from pyscreeze>=0.1.21->pyautogui) (4.3.0)\n",
            "Collecting pyrect\n",
            "  Downloading https://files.pythonhosted.org/packages/2f/68/bd7bf96fc44217e769f27912e6c9bb3e9987cba286054af6120448ce8212/PyRect-0.1.4.tar.gz\n",
            "Collecting pyperclip\n",
            "  Downloading https://files.pythonhosted.org/packages/2d/0f/4eda562dffd085945d57c2d9a5da745cfb5228c02bc90f2c74bbac746243/pyperclip-1.7.0.tar.gz\n",
            "Requirement already satisfied: olefile in /usr/local/lib/python3.6/dist-packages (from Pillow>=4.0.0->pyscreeze>=0.1.21->pyautogui) (0.46)\n",
            "Building wheels for collected packages: pyautogui, pymsgbox, PyTweening, pyscreeze, pygetwindow, mouseinfo, python3-Xlib, pyrect, pyperclip\n",
            "  Building wheel for pyautogui (setup.py) ... \u001b[?25l\u001b[?25hdone\n",
            "  Created wheel for pyautogui: filename=PyAutoGUI-0.9.48-cp36-none-any.whl size=37300 sha256=4948516ab1f4b743e1863fc078e9ad9be5cf30bd5b58d747d890e3c086c9a867\n",
            "  Stored in directory: /root/.cache/pip/wheels/31/92/e2/05d6f3b32b7f3e4a64fc8cba76a24d59d0f86b8cac610732df\n",
            "  Building wheel for pymsgbox (setup.py) ... \u001b[?25l\u001b[?25hdone\n",
            "  Created wheel for pymsgbox: filename=PyMsgBox-1.0.7-cp36-none-any.whl size=7322 sha256=c3b80bdf95599b0e5032a4e8bb4a62464796fed215563458de423271938dbc2f\n",
            "  Stored in directory: /root/.cache/pip/wheels/8e/62/9f/951a04461ec012e443f9aa172598fc8f9c6e409bf753687fad\n",
            "  Building wheel for PyTweening (setup.py) ... \u001b[?25l\u001b[?25hdone\n",
            "  Created wheel for PyTweening: filename=PyTweening-1.0.3-cp36-none-any.whl size=3816 sha256=7662fabda7a16e2045e8204e6eba2feee0fc6b3a20c44294cdb7b708c01053f2\n",
            "  Stored in directory: /root/.cache/pip/wheels/7b/92/30/06e21159eed2709436bfb6d7c690959e578cf74f029643866e\n",
            "  Building wheel for pyscreeze (setup.py) ... \u001b[?25l\u001b[?25hdone\n",
            "  Created wheel for pyscreeze: filename=PyScreeze-0.1.25-cp36-none-any.whl size=11873 sha256=373cf0e5008b8af20844861b55c86969fb44c7f8de50dfa2582a99fcbc09bfe9\n",
            "  Stored in directory: /root/.cache/pip/wheels/d4/78/e5/c2231e20bc4c2ec5b6198a921f6c9f90758412165f66e39a5e\n",
            "  Building wheel for pygetwindow (setup.py) ... \u001b[?25l\u001b[?25hdone\n",
            "  Created wheel for pygetwindow: filename=PyGetWindow-0.0.8-cp36-none-any.whl size=11008 sha256=5bc5b75b4389eb1deb80dbd1d79d5e0f2ce1e2d44209267f733f42321b6f753a\n",
            "  Stored in directory: /root/.cache/pip/wheels/a7/20/2c/7ba9c02521960b138ff4a635fced58cb7a3bc3cc99d52f56b5\n",
            "  Building wheel for mouseinfo (setup.py) ... \u001b[?25l\u001b[?25hdone\n",
            "  Created wheel for mouseinfo: filename=MouseInfo-0.1.2-cp36-none-any.whl size=10283 sha256=08bdee15f296855ad4b4ae4358a4c0e38d6937c16b4715e2189a5b9d8f574146\n",
            "  Stored in directory: /root/.cache/pip/wheels/ae/9d/36/593857c2baec61b37a3d4c1f81b42aa6e080bf1a7cd806d75a\n",
            "  Building wheel for python3-Xlib (setup.py) ... \u001b[?25l\u001b[?25hdone\n",
            "  Created wheel for python3-Xlib: filename=python3_xlib-0.15-cp36-none-any.whl size=109517 sha256=69898ede871dee167d6e534e3b3e92ba7fef20deab38145e91ac82e6e798a9a1\n",
            "  Stored in directory: /root/.cache/pip/wheels/e9/be/31/bebab5ac079cfa8305381fa6ee15ea142eade1fec0c71e1278\n",
            "  Building wheel for pyrect (setup.py) ... \u001b[?25l\u001b[?25hdone\n",
            "  Created wheel for pyrect: filename=PyRect-0.1.4-py2.py3-none-any.whl size=9548 sha256=280cb25eb24e8778dcbbb561768a2022724e746d2e9eb45324e4108330b63496\n",
            "  Stored in directory: /root/.cache/pip/wheels/3e/61/83/8fd1478e984f7378e57972f5fd9bb0dbffc349fefc9efa5bf9\n",
            "  Building wheel for pyperclip (setup.py) ... \u001b[?25l\u001b[?25hdone\n",
            "  Created wheel for pyperclip: filename=pyperclip-1.7.0-cp36-none-any.whl size=8359 sha256=742da47521b1f03336287fa92f28dadb184b3e7ab41aaee5bd8d46bd8208f21e\n",
            "  Stored in directory: /root/.cache/pip/wheels/92/f0/ac/2ba2972034e98971c3654ece337ac61e546bdeb34ca960dc8c\n",
            "Successfully built pyautogui pymsgbox PyTweening pyscreeze pygetwindow mouseinfo python3-Xlib pyrect pyperclip\n",
            "Installing collected packages: pymsgbox, PyTweening, pyscreeze, pyrect, pygetwindow, pyperclip, python3-Xlib, mouseinfo, pyautogui\n",
            "Successfully installed PyTweening-1.0.3 mouseinfo-0.1.2 pyautogui-0.9.48 pygetwindow-0.0.8 pymsgbox-1.0.7 pyperclip-1.7.0 pyrect-0.1.4 pyscreeze-0.1.25 python3-Xlib-0.15\n",
            "Collecting pytesseract\n",
            "  Downloading https://files.pythonhosted.org/packages/47/e5/892d78db0d26372aa376fc1b127e9cd4cc158727a76e0802069115fcbd6e/pytesseract-0.3.0.tar.gz\n",
            "Requirement already satisfied: Pillow in /usr/local/lib/python3.6/dist-packages (from pytesseract) (4.3.0)\n",
            "Requirement already satisfied: olefile in /usr/local/lib/python3.6/dist-packages (from Pillow->pytesseract) (0.46)\n",
            "Building wheels for collected packages: pytesseract\n",
            "  Building wheel for pytesseract (setup.py) ... \u001b[?25l\u001b[?25hdone\n",
            "  Created wheel for pytesseract: filename=pytesseract-0.3.0-py2.py3-none-any.whl size=20970 sha256=d31d59b99e49b50da7bdab4a577b46fb1c493d021fc70fe2c6ed71694bdd64bd\n",
            "  Stored in directory: /root/.cache/pip/wheels/78/c9/ac/4cb76bd547f9970070522439e5203ba7926c5c5c4f131583ea\n",
            "Successfully built pytesseract\n",
            "Installing collected packages: pytesseract\n",
            "Successfully installed pytesseract-0.3.0\n"
          ],
          "name": "stdout"
        }
      ]
    },
    {
      "cell_type": "markdown",
      "metadata": {
        "id": "fjNUFCql7Hpw",
        "colab_type": "text"
      },
      "source": [
        "imports:"
      ]
    },
    {
      "cell_type": "code",
      "metadata": {
        "id": "EqdMT12X7E_X",
        "colab_type": "code",
        "outputId": "68334010-6bcc-472e-89f2-bf89492fdbb9",
        "colab": {
          "base_uri": "https://localhost:8080/",
          "height": 421
        }
      },
      "source": [
        "from collections import deque\n",
        "import random\n",
        "import numpy as np\n",
        "import time\n",
        "\n",
        "from keras.models import Sequential, model_from_json\n",
        "from keras.layers import Dense\n",
        "from keras.optimizers import Adam\n",
        "\n",
        "from mss import mss\n",
        "from PIL import Image\n",
        "import cv2\n",
        "\n",
        "import pyautogui\n",
        "import pytesseract"
      ],
      "execution_count": 2,
      "outputs": [
        {
          "output_type": "stream",
          "text": [
            "Using TensorFlow backend.\n"
          ],
          "name": "stderr"
        },
        {
          "output_type": "display_data",
          "data": {
            "text/html": [
              "<p style=\"color: red;\">\n",
              "The default version of TensorFlow in Colab will soon switch to TensorFlow 2.x.<br>\n",
              "We recommend you <a href=\"https://www.tensorflow.org/guide/migrate\" target=\"_blank\">upgrade</a> now \n",
              "or ensure your notebook will continue to use TensorFlow 1.x via the <code>%tensorflow_version 1.x</code> magic:\n",
              "<a href=\"https://colab.research.google.com/notebooks/tensorflow_version.ipynb\" target=\"_blank\">more info</a>.</p>\n"
            ],
            "text/plain": [
              "<IPython.core.display.HTML object>"
            ]
          },
          "metadata": {
            "tags": []
          }
        },
        {
          "output_type": "error",
          "ename": "KeyError",
          "evalue": "ignored",
          "traceback": [
            "\u001b[0;31m---------------------------------------------------------------------------\u001b[0m",
            "\u001b[0;31mKeyError\u001b[0m                                  Traceback (most recent call last)",
            "\u001b[0;32m<ipython-input-2-ae6dc3bfd303>\u001b[0m in \u001b[0;36m<module>\u001b[0;34m()\u001b[0m\n\u001b[1;32m     12\u001b[0m \u001b[0;32mimport\u001b[0m \u001b[0mcv2\u001b[0m\u001b[0;34m\u001b[0m\u001b[0;34m\u001b[0m\u001b[0m\n\u001b[1;32m     13\u001b[0m \u001b[0;34m\u001b[0m\u001b[0m\n\u001b[0;32m---> 14\u001b[0;31m \u001b[0;32mimport\u001b[0m \u001b[0mpyautogui\u001b[0m\u001b[0;34m\u001b[0m\u001b[0;34m\u001b[0m\u001b[0m\n\u001b[0m\u001b[1;32m     15\u001b[0m \u001b[0;32mimport\u001b[0m \u001b[0mpytesseract\u001b[0m\u001b[0;34m\u001b[0m\u001b[0;34m\u001b[0m\u001b[0m\n",
            "\u001b[0;32m/usr/local/lib/python3.6/dist-packages/pyautogui/__init__.py\u001b[0m in \u001b[0;36m<module>\u001b[0;34m()\u001b[0m\n\u001b[1;32m     92\u001b[0m \u001b[0;34m\u001b[0m\u001b[0m\n\u001b[1;32m     93\u001b[0m \u001b[0;32mtry\u001b[0m\u001b[0;34m:\u001b[0m\u001b[0;34m\u001b[0m\u001b[0;34m\u001b[0m\u001b[0m\n\u001b[0;32m---> 94\u001b[0;31m     \u001b[0;32mimport\u001b[0m \u001b[0mmouseinfo\u001b[0m\u001b[0;34m\u001b[0m\u001b[0;34m\u001b[0m\u001b[0m\n\u001b[0m\u001b[1;32m     95\u001b[0m     \u001b[0;32mdef\u001b[0m \u001b[0mmouseInfo\u001b[0m\u001b[0;34m(\u001b[0m\u001b[0;34m)\u001b[0m\u001b[0;34m:\u001b[0m\u001b[0;34m\u001b[0m\u001b[0;34m\u001b[0m\u001b[0m\n\u001b[1;32m     96\u001b[0m         \u001b[0mmouseinfo\u001b[0m\u001b[0;34m.\u001b[0m\u001b[0mMouseInfoWindow\u001b[0m\u001b[0;34m(\u001b[0m\u001b[0;34m)\u001b[0m\u001b[0;34m\u001b[0m\u001b[0;34m\u001b[0m\u001b[0m\n",
            "\u001b[0;32m/usr/local/lib/python3.6/dist-packages/mouseinfo/__init__.py\u001b[0m in \u001b[0;36m<module>\u001b[0;34m()\u001b[0m\n\u001b[1;32m    147\u001b[0m             \u001b[0;32mraise\u001b[0m\u001b[0;34m\u001b[0m\u001b[0;34m\u001b[0m\u001b[0m\n\u001b[1;32m    148\u001b[0m \u001b[0;34m\u001b[0m\u001b[0m\n\u001b[0;32m--> 149\u001b[0;31m     \u001b[0m_display\u001b[0m \u001b[0;34m=\u001b[0m \u001b[0mDisplay\u001b[0m\u001b[0;34m(\u001b[0m\u001b[0mos\u001b[0m\u001b[0;34m.\u001b[0m\u001b[0menviron\u001b[0m\u001b[0;34m[\u001b[0m\u001b[0;34m'DISPLAY'\u001b[0m\u001b[0;34m]\u001b[0m\u001b[0;34m)\u001b[0m\u001b[0;34m\u001b[0m\u001b[0;34m\u001b[0m\u001b[0m\n\u001b[0m\u001b[1;32m    150\u001b[0m \u001b[0;34m\u001b[0m\u001b[0m\n\u001b[1;32m    151\u001b[0m     \u001b[0;32mdef\u001b[0m \u001b[0m_linuxPosition\u001b[0m\u001b[0;34m(\u001b[0m\u001b[0;34m)\u001b[0m\u001b[0;34m:\u001b[0m\u001b[0;34m\u001b[0m\u001b[0;34m\u001b[0m\u001b[0m\n",
            "\u001b[0;32m/usr/lib/python3.6/os.py\u001b[0m in \u001b[0;36m__getitem__\u001b[0;34m(self, key)\u001b[0m\n\u001b[1;32m    667\u001b[0m         \u001b[0;32mexcept\u001b[0m \u001b[0mKeyError\u001b[0m\u001b[0;34m:\u001b[0m\u001b[0;34m\u001b[0m\u001b[0;34m\u001b[0m\u001b[0m\n\u001b[1;32m    668\u001b[0m             \u001b[0;31m# raise KeyError with the original key value\u001b[0m\u001b[0;34m\u001b[0m\u001b[0;34m\u001b[0m\u001b[0;34m\u001b[0m\u001b[0m\n\u001b[0;32m--> 669\u001b[0;31m             \u001b[0;32mraise\u001b[0m \u001b[0mKeyError\u001b[0m\u001b[0;34m(\u001b[0m\u001b[0mkey\u001b[0m\u001b[0;34m)\u001b[0m \u001b[0;32mfrom\u001b[0m \u001b[0;32mNone\u001b[0m\u001b[0;34m\u001b[0m\u001b[0;34m\u001b[0m\u001b[0m\n\u001b[0m\u001b[1;32m    670\u001b[0m         \u001b[0;32mreturn\u001b[0m \u001b[0mself\u001b[0m\u001b[0;34m.\u001b[0m\u001b[0mdecodevalue\u001b[0m\u001b[0;34m(\u001b[0m\u001b[0mvalue\u001b[0m\u001b[0;34m)\u001b[0m\u001b[0;34m\u001b[0m\u001b[0;34m\u001b[0m\u001b[0m\n\u001b[1;32m    671\u001b[0m \u001b[0;34m\u001b[0m\u001b[0m\n",
            "\u001b[0;31mKeyError\u001b[0m: 'DISPLAY'"
          ]
        }
      ]
    },
    {
      "cell_type": "markdown",
      "metadata": {
        "id": "NNWNe7Am4QSA",
        "colab_type": "text"
      },
      "source": [
        "This is DQNAgent. It was taken from https://keon.io/deep-q-learning/\n",
        "\n",
        "This is a class that contains the model.\n",
        "\n",
        "Tweak the values until the model learns better, these are just the default values.\n",
        "\n"
      ]
    },
    {
      "cell_type": "code",
      "metadata": {
        "id": "jEE2d0OHv_PD",
        "colab_type": "code",
        "colab": {}
      },
      "source": [
        "class DQNAgent:\n",
        "    def __init__(self, state_size, action_size):\n",
        "        self.state_size = state_size\n",
        "        self.action_size = action_size\n",
        "        self.memory = deque(maxlen=50000)\n",
        "        self.gamma = 0.95  # discount rate\n",
        "        self.epsilon = 1.0  # exploration rate\n",
        "        self.epsilon_min = 0.01\n",
        "        self.epsilon_decay = 0.995\n",
        "        self.learning_rate = 0.001\n",
        "        self.model = self._build_model()\n",
        "\n",
        "    def _build_model(self):\n",
        "        # Neural Net for Deep-Q learning Model\n",
        "        model = Sequential()\n",
        "        model.add(Dense(24, input_dim=self.state_size, activation='relu'))\n",
        "        model.add(Dense(24, activation='relu'))\n",
        "        model.add(Dense(self.action_size, activation='linear'))\n",
        "        model.compile(loss='mse',\n",
        "                      optimizer=Adam(lr=self.learning_rate))\n",
        "        return model\n",
        "\n",
        "    def remember(self, state, action, reward, next_state, done):\n",
        "        self.memory.append((state, action, reward, next_state, done))\n",
        "\n",
        "    def act(self, state):\n",
        "        if np.random.rand() <= self.epsilon:\n",
        "            return random.randrange(self.action_size)\n",
        "        act_values = self.model.predict(state)\n",
        "        return np.argmax(act_values[0])  # returns action\n",
        "\n",
        "    def replay(self, batch_size):\n",
        "        minibatch = random.sample(self.memory, min(batch_size, len(self.memory)))\n",
        "        for state, action, reward, next_state, done in minibatch:\n",
        "            target = reward\n",
        "            if not done:\n",
        "                target = reward + self.gamma * \\\n",
        "                         np.amax(self.model.predict(next_state)[0])\n",
        "            target_f = self.model.predict(state)\n",
        "            target_f[0][action] = target\n",
        "            self.model.fit(state, target_f, epochs=1, verbose=0)\n",
        "        if self.epsilon > self.epsilon_min:\n",
        "            self.epsilon *= self.epsilon_decay\n",
        "\n",
        "    def save(self):\n",
        "        self.model.save_weights('model.h5')\n",
        "\n",
        "    def load(self):\n",
        "        self.model.load_weights('model.h5')\n"
      ],
      "execution_count": 0,
      "outputs": []
    },
    {
      "cell_type": "markdown",
      "metadata": {
        "id": "vdPKffHmQ9xU",
        "colab_type": "text"
      },
      "source": [
        "Functions for the model to get input and interact with the computer.\n",
        "\n",
        "Run this cell once."
      ]
    },
    {
      "cell_type": "code",
      "metadata": {
        "id": "HgpMBcYvLfSY",
        "colab_type": "code",
        "colab": {}
      },
      "source": [
        "def capture_ss():\n",
        "    img = sc.grab(monitor=sc.monitors[1])\n",
        "    return np.array(Image.frombytes('RGB', img.size, img.bgra, 'raw', 'BGRX'))\n",
        "\n",
        "\n",
        "def process_img(original_img):\n",
        "    processed_img = cv2.resize(original_img, scr_dim, interpolation=cv2.INTER_AREA)\n",
        "    processed_img = cv2.cvtColor(processed_img, cv2.COLOR_BGR2GRAY)\n",
        "    return processed_img\n",
        "\n",
        "\n",
        "def shape_img(processed_img):\n",
        "    shaped_img = np.reshape(processed_img, [1, screen_size])\n",
        "    return shaped_img\n",
        "\n",
        "\n",
        "def act(action):\n",
        "    print(action)\n",
        "    if action > 4:\n",
        "        if action < 20:\n",
        "            if action % 4 == 0:\n",
        "                pyautogui.keyDown('W')\n",
        "            if action % 4 == 1:\n",
        "                pyautogui.keyDown('A')\n",
        "            if action % 4 == 2:\n",
        "                pyautogui.keyDown('S')\n",
        "            if action % 4 == 3:\n",
        "                pyautogui.keyDown('D')\n",
        "        else:\n",
        "            if action == 20 or action == 21 or action == 24 or action == 25 or action == 28 or action == 29:\n",
        "                pyautogui.keyDown('W')\n",
        "            if action == 20 or action == 22 or action == 24 or action == 26 or action == 28 or action == 30:\n",
        "                pyautogui.keyDown('A')\n",
        "            if action == 23 or action == 22 or action == 27 or action == 26 or action == 31 or action == 30:\n",
        "                pyautogui.keyDown('S')\n",
        "            if action == 23 or action == 21 or action == 27 or action == 25 or action == 31 or action == 29:\n",
        "                pyautogui.keyDown('D')\n",
        "    if action == 0 or (8 <= action <= 11) or (20 <= action <= 23):\n",
        "        pyautogui.keyDown('U')\n",
        "    if action == 1 or (12 <= action <= 15) or (24 <= action <= 27):\n",
        "        pyautogui.keyDown('I')\n",
        "    if action == 2:\n",
        "        pyautogui.keyDown('O')\n",
        "    if action == 3 or (16 <= action <= 19) or (28 <= action <= 31):\n",
        "        pyautogui.keyDown('P')\n",
        "\n",
        "\n",
        "def reset():\n",
        "    pyautogui.keyUp('W')\n",
        "    pyautogui.keyUp('A')\n",
        "    pyautogui.keyUp('S')\n",
        "    pyautogui.keyUp('D')\n",
        "    pyautogui.keyUp('U')\n",
        "    pyautogui.keyUp('I')\n",
        "    pyautogui.keyUp('O')\n",
        "    pyautogui.keyUp('P')\n"
      ],
      "execution_count": 0,
      "outputs": []
    },
    {
      "cell_type": "markdown",
      "metadata": {
        "id": "fM4hKNfRRdgH",
        "colab_type": "text"
      },
      "source": [
        "The main function where all the AI happens.\n",
        "\n",
        "Run this once."
      ]
    },
    {
      "cell_type": "code",
      "metadata": {
        "id": "pbpxZCmhLfYF",
        "colab_type": "code",
        "colab": {}
      },
      "source": [
        "def main():\n",
        "    agent = DQNAgent(screen_size, 4 + 4 + 12 + 12)\n",
        "    # agent.load()\n",
        "\n",
        "    death_flag = process_img(capture_ss())[death_loc[1], death_loc[0]]\n",
        "    print(\"starting\")\n",
        "\n",
        "    time.sleep(2)\n",
        "\n",
        "    # repeat episode_num times\n",
        "    for e in range(episode_num):\n",
        "        pyautogui.keyDown('tab')\n",
        "        pyautogui.keyUp('tab')\n",
        "\n",
        "        score = 0\n",
        "        dead = False\n",
        "        last_scr = process_img(capture_ss())\n",
        "        last_scr_vector = shape_img(last_scr)\n",
        "        action = agent.act(last_scr_vector)\n",
        "        act(action)\n",
        "        last_time = time.time()\n",
        "\n",
        "        while not dead:\n",
        "            reset()\n",
        "            screen = capture_ss()\n",
        "            pro_scr = process_img(screen)\n",
        "            scr_vector = shape_img(pro_scr)\n",
        "\n",
        "            score_crop = screen[score_loc[1]:score_loc[1] + score_dim[1],\n",
        "                         score_loc[0]:score_loc[0] + score_dim[0]]\n",
        "            score_ocr = pytesseract.image_to_string(score_crop,\n",
        "                                                    config='--psm 10 --oem 3 -c tessedit_char_whitelist=0123456789')\n",
        "            if score_ocr != '':\n",
        "                score = max(score, int(score_ocr))\n",
        "\n",
        "            death_check = pro_scr[death_loc[1]][death_loc[0]]\n",
        "            if death_flag == death_check:\n",
        "                dead = True\n",
        "\n",
        "            reward = score\n",
        "\n",
        "            agent.remember(last_scr_vector, action, reward, scr_vector, dead)\n",
        "\n",
        "            if dead:\n",
        "                print('episode: {}/{}, score: {}'.format(e, episode_num, reward))\n",
        "                continue\n",
        "\n",
        "            print(time.time() - last_time)\n",
        "            last_time = time.time()\n",
        "            action = agent.act(scr_vector)\n",
        "            act(action)\n",
        "            last_scr = pro_scr\n",
        "            last_scr_vector = scr_vector\n",
        "\n",
        "        agent.replay(32)\n",
        "\n",
        "    agent.save()\n"
      ],
      "execution_count": 0,
      "outputs": []
    },
    {
      "cell_type": "markdown",
      "metadata": {
        "id": "NfCWKtXFRl9v",
        "colab_type": "text"
      },
      "source": [
        "This cell runs the main function. Run as many times as you want.\n",
        "\n",
        "You may need to change score_loc and score_dim to fit your computer size. "
      ]
    },
    {
      "cell_type": "code",
      "metadata": {
        "id": "tKTD1dlsRw8S",
        "colab_type": "code",
        "colab": {}
      },
      "source": [
        "episode_num = 10\n",
        "scr_dim = (200, 50)\n",
        "score_loc = (1085, 150)\n",
        "score_dim = (400, 150)\n",
        "death_loc = (int(scr_dim[0] / 2), int(scr_dim[1] / 2))\n",
        "screen_size = scr_dim[0] * scr_dim[1]\n",
        "\n",
        "sc = mss()\n",
        "\n",
        "main()\n"
      ],
      "execution_count": 0,
      "outputs": []
    }
  ]
}